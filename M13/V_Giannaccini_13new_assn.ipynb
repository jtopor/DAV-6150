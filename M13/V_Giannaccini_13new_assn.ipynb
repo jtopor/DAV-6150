{
 "cells": [
  {
   "cell_type": "markdown",
   "metadata": {
    "id": "UbX56ryXKKCj"
   },
   "source": [
    "#DAV 6150 Module 13 Assignment: *Using Neural Nets to Predict Sharing of Online News Articles*"
   ]
  },
  {
   "cell_type": "markdown",
   "metadata": {
    "id": "Nmi20a3UKaWC"
   },
   "source": [
    "#### Team members\n",
    "\n",
    "- Manvitha Karanam\n",
    "- Vinicius Giannaccini\n"
   ]
  },
  {
   "cell_type": "markdown",
   "metadata": {
    "id": "Hz9-jzuBO__X"
   },
   "source": [
    "## **Introduction**\n",
    "\n",
    "In this assignment, we explore the application of feed-forward, back-propagating neural networks to predict the popularity level of online news articles.\n",
    "\n",
    "Using a dataset containing over 39,000 news articles and 61 attributes, our goal is to create a categorical indicator variable called `share_level`, which classifies articles into \"low\", \"medium\", or \"high\" popularity based on the number of shares.\n",
    "\n",
    "To accomplish this, we will:\n",
    "- **Load and prepare the data**: including engineering the new `share_level` variable.\n",
    "- **Conduct exploratory data analysis (EDA)** to understand feature distributions and relationships.\n",
    "- **Apply feature selection techniques** to identify important predictors.\n",
    "- **Build and train three neural network models**, varying hyperparameters to compare performance.\n",
    "- **Select the best performing model** based on evaluation metrics.\n",
    "- **Draw conclusions** based on model results and share insights on the prediction task.\n"
   ]
  },
  {
   "cell_type": "markdown",
   "metadata": {
    "id": "RuKBWeUcJEI6"
   },
   "source": [
    "## **Data Summary**  \n",
    "\n",
    "### Here's a detailed breakdown of the dataset features:  \n",
    "\n",
    "# 1. URL and Time-Related Features  \n",
    "- **url**: The URL of the article (non-predictive) — this is just an identifier, not used for prediction.  \n",
    "- **timedelta**: Number of days between the publication of the article and when the dataset was acquired — useful for tracking how the article performs over time.  \n",
    "\n",
    "# 2. Content-Based Features  \n",
    "- **n_tokens_title**: Number of words in the article's title — longer or shorter titles may affect how catchy the article is.  \n",
    "- **n_tokens_content**: Number of words in the article's content — this captures how much information the article contains.  \n",
    "- **n_unique_tokens**: Rate of unique words in the content — a measure of vocabulary diversity.  \n",
    "- **n_non_stop_words**: Proportion of non-stop words (i.e., content words) in the article — articles with more meaningful words might be more engaging.  \n",
    "- **n_non_stop_unique_tokens**: Proportion of unique non-stop words — indicates how varied and content-rich the article is.  \n",
    "\n",
    "# 3. Link and Multimedia Features  \n",
    "- **num_hrefs**: Number of hyperlinks in the article — could reflect how well-connected the article is with external sources.  \n",
    "- **num_self_hrefs**: Number of self-referencing links (links to other articles on the same website) — this may indicate whether the article promotes internal content.  \n",
    "- **num_imgs**: Number of images in the article — articles with more images may be more visually appealing and shareable.  \n",
    "- **num_videos**: Number of videos in the article — video content might affect engagement and sharing.  \n",
    "\n",
    "# 4. Text and Keywords Features  \n",
    "- **average_token_length**: Average length of words in the article — longer words may indicate more complex content.  \n",
    "- **num_keywords**: Number of keywords assigned to the article in its metadata — articles with well-defined keywords may perform better in search engines and attract more traffic.  \n",
    "\n",
    "# 5. Data Channel (Topic) Features  \n",
    "These features indicate the category or topic of the article. Only one of these will be True for each article.  \n",
    "- **data_channel_is_lifestyle**: Is the article in the Lifestyle category?  \n",
    "- **data_channel_is_entertainment**: Is the article in Entertainment?  \n",
    "- **data_channel_is_bus**: Is the article in Business?  \n",
    "- **data_channel_is_socmed**: Is the article about Social Media?  \n",
    "- **data_channel_is_tech**: Is the article about Technology?  \n",
    "- **data_channel_is_world**: Is the article about World news?  \n",
    "\n",
    "# 6. Keyword Sharing Metrics  \n",
    "These features measure the shares of articles based on their keyword performance.  \n",
    "- **kw_min_min, kw_max_min, kw_avg_min**: Minimum, maximum, and average number of shares for the least popular keyword.  \n",
    "- **kw_min_max, kw_max_max, kw_avg_max**: Minimum, maximum, and average number of shares for the most popular keyword.  \n",
    "- **kw_min_avg, kw_max_avg, kw_avg_avg**: Minimum, maximum, and average number of shares for all keywords.  \n",
    "\n",
    "# 7. Self-Reference Features  \n",
    "- **self_reference_min_shares**: Minimum shares of articles that were referenced by the article.  \n",
    "- **self_reference_max_shares**: Maximum shares of referenced articles.  \n",
    "- **self_reference_avg_sharess**: Average shares of referenced articles — these features help indicate whether popular internal references impact shares.  \n",
    "\n",
    "# 8. Publication Timing Features  \n",
    "These features indicate whether the article was published on a specific day or on the weekend:  \n",
    "- **weekday_is_monday, weekday_is_tuesday, ..., weekday_is_sunday**: Booleans indicating the day of the week the article was published.  \n",
    "- **is_weekend**: Boolean indicating if the article was published on the weekend (Saturday or Sunday).  \n",
    "\n",
    "# 9. Latent Dirichlet Allocation (LDA) Features  \n",
    "These features capture the closeness of the article to different topics generated using LDA, a topic modeling technique. Articles are scored based on their similarity to five topics (LDA_00 to LDA_04).  \n",
    "- **LDA_00, LDA_01, LDA_02, LDA_03, LDA_04**: Closeness to topics, useful for topic-based modeling.  \n",
    "\n",
    "# 10. Sentiment and Polarity Features  \n",
    "These features measure the sentiment (positive/negative) and subjectivity (factual/opinion-based) of both the article's title and content:  \n",
    "- **global_subjectivity**: Overall subjectivity of the article's content (closer to 1 means more subjective, closer to 0 means more objective).  \n",
    "- **global_sentiment_polarity**: Overall sentiment polarity of the article (positive or negative).  \n",
    "- **global_rate_positive_words**: Proportion of positive words in the content.  \n",
    "- **global_rate_negative_words**: Proportion of negative words in the content.  \n",
    "- **rate_positive_words**: Proportion of positive words excluding neutral ones.  \n",
    "- **rate_negative_words**: Proportion of negative words excluding neutral ones.  \n",
    "- **avg_positive_polarity**: Average polarity of positive words (how positive they are).  \n",
    "- **min_positive_polarity**: Minimum polarity score among positive words.  \n",
    "- **max_positive_polarity**: Maximum polarity score among positive words.  \n",
    "- **avg_negative_polarity**: Average polarity of negative words (how negative they are).  \n",
    "- **min_negative_polarity**: Minimum polarity score among negative words.  \n",
    "- **max_negative_polarity**: Maximum polarity score among negative words.  \n",
    "- **title_subjectivity**: Subjectivity score of the title.  \n",
    "- **title_sentiment_polarity**: Sentiment polarity score of the title.  \n",
    "- **abs_title_subjectivity**: Absolute subjectivity level of the title.  \n",
    "- **abs_title_sentiment_polarity**: Absolute polarity level of the title.  \n",
    "\n",
    "# 11. Target Variable  \n",
    "- **shares**: The number of shares the article received.  \n",
    "This is the target variable that the dataset is trying to predict based on the above features.  \n"
   ]
  },
  {
   "cell_type": "markdown",
   "metadata": {
    "id": "-9uS33Efeo0x"
   },
   "source": [
    "### Load the data:\n",
    "A. Import Python Libraries\n",
    "Import all libraries that are required for our analysis, such as Data Loading, Statistical analysis, Visualization etc.\n",
    "\n",
    "Pandas and Numpy have been used for Data Manipulation and numerical Calculations.\n",
    "\n",
    "Matplotlib and Seaborn have been used for Data visualizations.\n",
    "\n",
    "GitHub sourhttps://github.com/manvithakakollu/dav_6150_datascience/blob/manvitha/M4_Data.csvce link:"
   ]
  },
  {
   "cell_type": "code",
   "execution_count": 277,
   "metadata": {
    "id": "bSRpvq7pTbqC"
   },
   "outputs": [],
   "source": [
    "import pandas as pd\n",
    "import numpy as np\n",
    "import matplotlib.pyplot as plt\n",
    "import seaborn as sns\n",
    "import csv\n",
    "# Ignore any warnings for a cleaner output\n",
    "import warnings\n",
    "warnings.filterwarnings('ignore')"
   ]
  },
  {
   "cell_type": "markdown",
   "metadata": {
    "id": "NQtY3SkPP1ZL"
   },
   "source": [
    "Next, we use the `read_csv()` function from pandas to load the dataset from a CSV file into a DataFrame. The data is stored in the variable `article_data`, which allows us to perform further data analysis and manipulations.\n"
   ]
  },
  {
   "cell_type": "code",
   "execution_count": 279,
   "metadata": {
    "id": "ls27aOqaKfoK"
   },
   "outputs": [],
   "source": [
    "article_data = pd.read_csv(\n",
    "    \"https://raw.githubusercontent.com/manvithakakollu/dav_6150_datascience/manvitha/M4_Data.csv\",\n",
    "    delimiter=',',  # If another delimiter is used\n",
    "    quoting=csv.QUOTE_NONE  # If there are issues with quotation marks\n",
    ")\n"
   ]
  },
  {
   "cell_type": "code",
   "execution_count": 280,
   "metadata": {
    "colab": {
     "base_uri": "https://localhost:8080/"
    },
    "id": "EnpdXBmSUuNr",
    "outputId": "aed1094b-aaaa-4c0f-a838-219d1bd0ed29"
   },
   "outputs": [
    {
     "name": "stdout",
     "output_type": "stream",
     "text": [
      "<class 'pandas.core.frame.DataFrame'>\n",
      "RangeIndex: 39644 entries, 0 to 39643\n",
      "Data columns (total 61 columns):\n",
      " #   Column                          Non-Null Count  Dtype  \n",
      "---  ------                          --------------  -----  \n",
      " 0   url                             39644 non-null  object \n",
      " 1    timedelta                      39644 non-null  float64\n",
      " 2    n_tokens_title                 39644 non-null  float64\n",
      " 3    n_tokens_content               39644 non-null  float64\n",
      " 4    n_unique_tokens                39644 non-null  float64\n",
      " 5    n_non_stop_words               39644 non-null  float64\n",
      " 6    n_non_stop_unique_tokens       39644 non-null  float64\n",
      " 7    num_hrefs                      39644 non-null  float64\n",
      " 8    num_self_hrefs                 39644 non-null  float64\n",
      " 9    num_imgs                       39644 non-null  float64\n",
      " 10   num_videos                     39644 non-null  float64\n",
      " 11   average_token_length           39644 non-null  float64\n",
      " 12   num_keywords                   39644 non-null  float64\n",
      " 13   data_channel_is_lifestyle      39644 non-null  float64\n",
      " 14   data_channel_is_entertainment  39644 non-null  float64\n",
      " 15   data_channel_is_bus            39644 non-null  float64\n",
      " 16   data_channel_is_socmed         39644 non-null  float64\n",
      " 17   data_channel_is_tech           39644 non-null  float64\n",
      " 18   data_channel_is_world          39644 non-null  float64\n",
      " 19   kw_min_min                     39644 non-null  float64\n",
      " 20   kw_max_min                     39644 non-null  float64\n",
      " 21   kw_avg_min                     39644 non-null  float64\n",
      " 22   kw_min_max                     39644 non-null  float64\n",
      " 23   kw_max_max                     39644 non-null  float64\n",
      " 24   kw_avg_max                     39644 non-null  float64\n",
      " 25   kw_min_avg                     39644 non-null  float64\n",
      " 26   kw_max_avg                     39644 non-null  float64\n",
      " 27   kw_avg_avg                     39644 non-null  float64\n",
      " 28   self_reference_min_shares      39644 non-null  float64\n",
      " 29   self_reference_max_shares      39644 non-null  float64\n",
      " 30   self_reference_avg_sharess     39644 non-null  float64\n",
      " 31   weekday_is_monday              39644 non-null  float64\n",
      " 32   weekday_is_tuesday             39644 non-null  float64\n",
      " 33   weekday_is_wednesday           39644 non-null  float64\n",
      " 34   weekday_is_thursday            39644 non-null  float64\n",
      " 35   weekday_is_friday              39644 non-null  float64\n",
      " 36   weekday_is_saturday            39644 non-null  float64\n",
      " 37   weekday_is_sunday              39644 non-null  float64\n",
      " 38   is_weekend                     39644 non-null  float64\n",
      " 39   LDA_00                         39644 non-null  float64\n",
      " 40   LDA_01                         39644 non-null  float64\n",
      " 41   LDA_02                         39644 non-null  float64\n",
      " 42   LDA_03                         39644 non-null  float64\n",
      " 43   LDA_04                         39644 non-null  float64\n",
      " 44   global_subjectivity            39644 non-null  float64\n",
      " 45   global_sentiment_polarity      39644 non-null  float64\n",
      " 46   global_rate_positive_words     39644 non-null  float64\n",
      " 47   global_rate_negative_words     39644 non-null  float64\n",
      " 48   rate_positive_words            39644 non-null  float64\n",
      " 49   rate_negative_words            39644 non-null  float64\n",
      " 50   avg_positive_polarity          39644 non-null  float64\n",
      " 51   min_positive_polarity          39644 non-null  float64\n",
      " 52   max_positive_polarity          39644 non-null  float64\n",
      " 53   avg_negative_polarity          39644 non-null  float64\n",
      " 54   min_negative_polarity          39644 non-null  float64\n",
      " 55   max_negative_polarity          39644 non-null  float64\n",
      " 56   title_subjectivity             39644 non-null  float64\n",
      " 57   title_sentiment_polarity       39644 non-null  float64\n",
      " 58   abs_title_subjectivity         39644 non-null  float64\n",
      " 59   abs_title_sentiment_polarity   39644 non-null  float64\n",
      " 60   shares                         39644 non-null  int64  \n",
      "dtypes: float64(59), int64(1), object(1)\n",
      "memory usage: 18.5+ MB\n"
     ]
    }
   ],
   "source": [
    "article_data.info()"
   ]
  },
  {
   "cell_type": "markdown",
   "metadata": {
    "id": "i03fKwJ3zAOp"
   },
   "source": [
    "The `info()` function shows complete details of the data and the data types of the features."
   ]
  },
  {
   "cell_type": "code",
   "execution_count": 282,
   "metadata": {
    "id": "xYWfLEYgeo02",
    "outputId": "ec2141ad-a7e3-43a5-e63b-fc174d46891b"
   },
   "outputs": [
    {
     "data": {
      "text/html": [
       "<div>\n",
       "<style scoped>\n",
       "    .dataframe tbody tr th:only-of-type {\n",
       "        vertical-align: middle;\n",
       "    }\n",
       "\n",
       "    .dataframe tbody tr th {\n",
       "        vertical-align: top;\n",
       "    }\n",
       "\n",
       "    .dataframe thead th {\n",
       "        text-align: right;\n",
       "    }\n",
       "</style>\n",
       "<table border=\"1\" class=\"dataframe\">\n",
       "  <thead>\n",
       "    <tr style=\"text-align: right;\">\n",
       "      <th></th>\n",
       "      <th>url</th>\n",
       "      <th>timedelta</th>\n",
       "      <th>n_tokens_title</th>\n",
       "      <th>n_tokens_content</th>\n",
       "      <th>n_unique_tokens</th>\n",
       "      <th>n_non_stop_words</th>\n",
       "      <th>n_non_stop_unique_tokens</th>\n",
       "      <th>num_hrefs</th>\n",
       "      <th>num_self_hrefs</th>\n",
       "      <th>num_imgs</th>\n",
       "      <th>...</th>\n",
       "      <th>min_positive_polarity</th>\n",
       "      <th>max_positive_polarity</th>\n",
       "      <th>avg_negative_polarity</th>\n",
       "      <th>min_negative_polarity</th>\n",
       "      <th>max_negative_polarity</th>\n",
       "      <th>title_subjectivity</th>\n",
       "      <th>title_sentiment_polarity</th>\n",
       "      <th>abs_title_subjectivity</th>\n",
       "      <th>abs_title_sentiment_polarity</th>\n",
       "      <th>shares</th>\n",
       "    </tr>\n",
       "  </thead>\n",
       "  <tbody>\n",
       "    <tr>\n",
       "      <th>0</th>\n",
       "      <td>http://mashable.com/2013/01/07/amazon-instant-...</td>\n",
       "      <td>731.0</td>\n",
       "      <td>12.0</td>\n",
       "      <td>219.0</td>\n",
       "      <td>0.663594</td>\n",
       "      <td>1.0</td>\n",
       "      <td>0.815385</td>\n",
       "      <td>4.0</td>\n",
       "      <td>2.0</td>\n",
       "      <td>1.0</td>\n",
       "      <td>...</td>\n",
       "      <td>0.100000</td>\n",
       "      <td>0.7</td>\n",
       "      <td>-0.350000</td>\n",
       "      <td>-0.600</td>\n",
       "      <td>-0.200000</td>\n",
       "      <td>0.500000</td>\n",
       "      <td>-0.187500</td>\n",
       "      <td>0.000000</td>\n",
       "      <td>0.187500</td>\n",
       "      <td>593</td>\n",
       "    </tr>\n",
       "    <tr>\n",
       "      <th>1</th>\n",
       "      <td>http://mashable.com/2013/01/07/ap-samsung-spon...</td>\n",
       "      <td>731.0</td>\n",
       "      <td>9.0</td>\n",
       "      <td>255.0</td>\n",
       "      <td>0.604743</td>\n",
       "      <td>1.0</td>\n",
       "      <td>0.791946</td>\n",
       "      <td>3.0</td>\n",
       "      <td>1.0</td>\n",
       "      <td>1.0</td>\n",
       "      <td>...</td>\n",
       "      <td>0.033333</td>\n",
       "      <td>0.7</td>\n",
       "      <td>-0.118750</td>\n",
       "      <td>-0.125</td>\n",
       "      <td>-0.100000</td>\n",
       "      <td>0.000000</td>\n",
       "      <td>0.000000</td>\n",
       "      <td>0.500000</td>\n",
       "      <td>0.000000</td>\n",
       "      <td>711</td>\n",
       "    </tr>\n",
       "    <tr>\n",
       "      <th>2</th>\n",
       "      <td>http://mashable.com/2013/01/07/apple-40-billio...</td>\n",
       "      <td>731.0</td>\n",
       "      <td>9.0</td>\n",
       "      <td>211.0</td>\n",
       "      <td>0.575130</td>\n",
       "      <td>1.0</td>\n",
       "      <td>0.663866</td>\n",
       "      <td>3.0</td>\n",
       "      <td>1.0</td>\n",
       "      <td>1.0</td>\n",
       "      <td>...</td>\n",
       "      <td>0.100000</td>\n",
       "      <td>1.0</td>\n",
       "      <td>-0.466667</td>\n",
       "      <td>-0.800</td>\n",
       "      <td>-0.133333</td>\n",
       "      <td>0.000000</td>\n",
       "      <td>0.000000</td>\n",
       "      <td>0.500000</td>\n",
       "      <td>0.000000</td>\n",
       "      <td>1500</td>\n",
       "    </tr>\n",
       "    <tr>\n",
       "      <th>3</th>\n",
       "      <td>http://mashable.com/2013/01/07/astronaut-notre...</td>\n",
       "      <td>731.0</td>\n",
       "      <td>9.0</td>\n",
       "      <td>531.0</td>\n",
       "      <td>0.503788</td>\n",
       "      <td>1.0</td>\n",
       "      <td>0.665635</td>\n",
       "      <td>9.0</td>\n",
       "      <td>0.0</td>\n",
       "      <td>1.0</td>\n",
       "      <td>...</td>\n",
       "      <td>0.136364</td>\n",
       "      <td>0.8</td>\n",
       "      <td>-0.369697</td>\n",
       "      <td>-0.600</td>\n",
       "      <td>-0.166667</td>\n",
       "      <td>0.000000</td>\n",
       "      <td>0.000000</td>\n",
       "      <td>0.500000</td>\n",
       "      <td>0.000000</td>\n",
       "      <td>1200</td>\n",
       "    </tr>\n",
       "    <tr>\n",
       "      <th>4</th>\n",
       "      <td>http://mashable.com/2013/01/07/att-u-verse-apps/</td>\n",
       "      <td>731.0</td>\n",
       "      <td>13.0</td>\n",
       "      <td>1072.0</td>\n",
       "      <td>0.415646</td>\n",
       "      <td>1.0</td>\n",
       "      <td>0.540890</td>\n",
       "      <td>19.0</td>\n",
       "      <td>19.0</td>\n",
       "      <td>20.0</td>\n",
       "      <td>...</td>\n",
       "      <td>0.033333</td>\n",
       "      <td>1.0</td>\n",
       "      <td>-0.220192</td>\n",
       "      <td>-0.500</td>\n",
       "      <td>-0.050000</td>\n",
       "      <td>0.454545</td>\n",
       "      <td>0.136364</td>\n",
       "      <td>0.045455</td>\n",
       "      <td>0.136364</td>\n",
       "      <td>505</td>\n",
       "    </tr>\n",
       "  </tbody>\n",
       "</table>\n",
       "<p>5 rows × 61 columns</p>\n",
       "</div>"
      ],
      "text/plain": [
       "                                                 url   timedelta  \\\n",
       "0  http://mashable.com/2013/01/07/amazon-instant-...       731.0   \n",
       "1  http://mashable.com/2013/01/07/ap-samsung-spon...       731.0   \n",
       "2  http://mashable.com/2013/01/07/apple-40-billio...       731.0   \n",
       "3  http://mashable.com/2013/01/07/astronaut-notre...       731.0   \n",
       "4   http://mashable.com/2013/01/07/att-u-verse-apps/       731.0   \n",
       "\n",
       "    n_tokens_title   n_tokens_content   n_unique_tokens   n_non_stop_words  \\\n",
       "0             12.0              219.0          0.663594                1.0   \n",
       "1              9.0              255.0          0.604743                1.0   \n",
       "2              9.0              211.0          0.575130                1.0   \n",
       "3              9.0              531.0          0.503788                1.0   \n",
       "4             13.0             1072.0          0.415646                1.0   \n",
       "\n",
       "    n_non_stop_unique_tokens   num_hrefs   num_self_hrefs   num_imgs  ...  \\\n",
       "0                   0.815385         4.0              2.0        1.0  ...   \n",
       "1                   0.791946         3.0              1.0        1.0  ...   \n",
       "2                   0.663866         3.0              1.0        1.0  ...   \n",
       "3                   0.665635         9.0              0.0        1.0  ...   \n",
       "4                   0.540890        19.0             19.0       20.0  ...   \n",
       "\n",
       "    min_positive_polarity   max_positive_polarity   avg_negative_polarity  \\\n",
       "0                0.100000                     0.7               -0.350000   \n",
       "1                0.033333                     0.7               -0.118750   \n",
       "2                0.100000                     1.0               -0.466667   \n",
       "3                0.136364                     0.8               -0.369697   \n",
       "4                0.033333                     1.0               -0.220192   \n",
       "\n",
       "    min_negative_polarity   max_negative_polarity   title_subjectivity  \\\n",
       "0                  -0.600               -0.200000             0.500000   \n",
       "1                  -0.125               -0.100000             0.000000   \n",
       "2                  -0.800               -0.133333             0.000000   \n",
       "3                  -0.600               -0.166667             0.000000   \n",
       "4                  -0.500               -0.050000             0.454545   \n",
       "\n",
       "    title_sentiment_polarity   abs_title_subjectivity  \\\n",
       "0                  -0.187500                 0.000000   \n",
       "1                   0.000000                 0.500000   \n",
       "2                   0.000000                 0.500000   \n",
       "3                   0.000000                 0.500000   \n",
       "4                   0.136364                 0.045455   \n",
       "\n",
       "    abs_title_sentiment_polarity   shares  \n",
       "0                       0.187500      593  \n",
       "1                       0.000000      711  \n",
       "2                       0.000000     1500  \n",
       "3                       0.000000     1200  \n",
       "4                       0.136364      505  \n",
       "\n",
       "[5 rows x 61 columns]"
      ]
     },
     "execution_count": 282,
     "metadata": {},
     "output_type": "execute_result"
    }
   ],
   "source": [
    "article_data.head()"
   ]
  },
  {
   "cell_type": "code",
   "execution_count": 283,
   "metadata": {
    "colab": {
     "base_uri": "https://localhost:8080/"
    },
    "id": "VS_NF9LJQUHn",
    "outputId": "72fa0ce9-34c2-4f2b-b7b8-a28cbabd0cca"
   },
   "outputs": [
    {
     "data": {
      "text/plain": [
       "(39644, 61)"
      ]
     },
     "execution_count": 283,
     "metadata": {},
     "output_type": "execute_result"
    }
   ],
   "source": [
    "article_data.shape"
   ]
  },
  {
   "cell_type": "markdown",
   "metadata": {
    "id": "6wElYkvnQpet"
   },
   "source": [
    "The `shape` method tells us that the dataset contains `39644` rows, and each row contains `61` attributes."
   ]
  },
  {
   "cell_type": "code",
   "execution_count": 285,
   "metadata": {
    "colab": {
     "base_uri": "https://localhost:8080/"
    },
    "id": "2REhMOh3cjs2",
    "outputId": "ad00ed5d-94bd-4c09-ab51-3ea12572225f"
   },
   "outputs": [
    {
     "name": "stdout",
     "output_type": "stream",
     "text": [
      "url                              39644\n",
      " timedelta                         724\n",
      " n_tokens_title                     20\n",
      " n_tokens_content                 2406\n",
      " n_unique_tokens                 27281\n",
      "                                 ...  \n",
      " title_subjectivity                673\n",
      " title_sentiment_polarity          813\n",
      " abs_title_subjectivity            532\n",
      " abs_title_sentiment_polarity      653\n",
      " shares                           1454\n",
      "Length: 61, dtype: int64\n"
     ]
    }
   ],
   "source": [
    "# Get the number of unique values for each column in the dataset\n",
    "unique_values_count = article_data.nunique()\n",
    "\n",
    "# Display the result\n",
    "print(unique_values_count)\n"
   ]
  },
  {
   "cell_type": "code",
   "execution_count": 286,
   "metadata": {
    "id": "8MG8Et0JS7cu"
   },
   "outputs": [],
   "source": [
    "article_data.columns = article_data.columns.str.strip()"
   ]
  },
  {
   "cell_type": "markdown",
   "metadata": {
    "id": "2A-28wO4zQ1g"
   },
   "source": [
    "The `strip()` function is used to remove spaces from the feature headings. It is always advisable to standardize column names and remove spaces in the dataset to improve readability and prevent potential issues during analysis."
   ]
  },
  {
   "cell_type": "code",
   "execution_count": 288,
   "metadata": {
    "colab": {
     "base_uri": "https://localhost:8080/",
     "height": 412
    },
    "id": "ekhv04pd00Ke",
    "outputId": "37c30e12-488f-4fc4-ffaf-97a3d69452e7"
   },
   "outputs": [
    {
     "data": {
      "text/html": [
       "<div>\n",
       "<style scoped>\n",
       "    .dataframe tbody tr th:only-of-type {\n",
       "        vertical-align: middle;\n",
       "    }\n",
       "\n",
       "    .dataframe tbody tr th {\n",
       "        vertical-align: top;\n",
       "    }\n",
       "\n",
       "    .dataframe thead th {\n",
       "        text-align: right;\n",
       "    }\n",
       "</style>\n",
       "<table border=\"1\" class=\"dataframe\">\n",
       "  <thead>\n",
       "    <tr style=\"text-align: right;\">\n",
       "      <th></th>\n",
       "      <th>n_tokens_title</th>\n",
       "      <th>n_tokens_content</th>\n",
       "      <th>n_unique_tokens</th>\n",
       "      <th>n_non_stop_words</th>\n",
       "      <th>n_non_stop_unique_tokens</th>\n",
       "      <th>num_hrefs</th>\n",
       "      <th>num_self_hrefs</th>\n",
       "      <th>num_imgs</th>\n",
       "      <th>num_videos</th>\n",
       "      <th>average_token_length</th>\n",
       "      <th>...</th>\n",
       "      <th>min_positive_polarity</th>\n",
       "      <th>max_positive_polarity</th>\n",
       "      <th>avg_negative_polarity</th>\n",
       "      <th>min_negative_polarity</th>\n",
       "      <th>max_negative_polarity</th>\n",
       "      <th>title_subjectivity</th>\n",
       "      <th>title_sentiment_polarity</th>\n",
       "      <th>abs_title_subjectivity</th>\n",
       "      <th>abs_title_sentiment_polarity</th>\n",
       "      <th>shares</th>\n",
       "    </tr>\n",
       "  </thead>\n",
       "  <tbody>\n",
       "    <tr>\n",
       "      <th>0</th>\n",
       "      <td>12.0</td>\n",
       "      <td>219.0</td>\n",
       "      <td>0.663594</td>\n",
       "      <td>1.0</td>\n",
       "      <td>0.815385</td>\n",
       "      <td>4.0</td>\n",
       "      <td>2.0</td>\n",
       "      <td>1.0</td>\n",
       "      <td>0.0</td>\n",
       "      <td>4.680365</td>\n",
       "      <td>...</td>\n",
       "      <td>0.100000</td>\n",
       "      <td>0.7</td>\n",
       "      <td>-0.350000</td>\n",
       "      <td>-0.600</td>\n",
       "      <td>-0.200000</td>\n",
       "      <td>0.500000</td>\n",
       "      <td>-0.187500</td>\n",
       "      <td>0.000000</td>\n",
       "      <td>0.187500</td>\n",
       "      <td>593</td>\n",
       "    </tr>\n",
       "    <tr>\n",
       "      <th>1</th>\n",
       "      <td>9.0</td>\n",
       "      <td>255.0</td>\n",
       "      <td>0.604743</td>\n",
       "      <td>1.0</td>\n",
       "      <td>0.791946</td>\n",
       "      <td>3.0</td>\n",
       "      <td>1.0</td>\n",
       "      <td>1.0</td>\n",
       "      <td>0.0</td>\n",
       "      <td>4.913725</td>\n",
       "      <td>...</td>\n",
       "      <td>0.033333</td>\n",
       "      <td>0.7</td>\n",
       "      <td>-0.118750</td>\n",
       "      <td>-0.125</td>\n",
       "      <td>-0.100000</td>\n",
       "      <td>0.000000</td>\n",
       "      <td>0.000000</td>\n",
       "      <td>0.500000</td>\n",
       "      <td>0.000000</td>\n",
       "      <td>711</td>\n",
       "    </tr>\n",
       "    <tr>\n",
       "      <th>2</th>\n",
       "      <td>9.0</td>\n",
       "      <td>211.0</td>\n",
       "      <td>0.575130</td>\n",
       "      <td>1.0</td>\n",
       "      <td>0.663866</td>\n",
       "      <td>3.0</td>\n",
       "      <td>1.0</td>\n",
       "      <td>1.0</td>\n",
       "      <td>0.0</td>\n",
       "      <td>4.393365</td>\n",
       "      <td>...</td>\n",
       "      <td>0.100000</td>\n",
       "      <td>1.0</td>\n",
       "      <td>-0.466667</td>\n",
       "      <td>-0.800</td>\n",
       "      <td>-0.133333</td>\n",
       "      <td>0.000000</td>\n",
       "      <td>0.000000</td>\n",
       "      <td>0.500000</td>\n",
       "      <td>0.000000</td>\n",
       "      <td>1500</td>\n",
       "    </tr>\n",
       "    <tr>\n",
       "      <th>3</th>\n",
       "      <td>9.0</td>\n",
       "      <td>531.0</td>\n",
       "      <td>0.503788</td>\n",
       "      <td>1.0</td>\n",
       "      <td>0.665635</td>\n",
       "      <td>9.0</td>\n",
       "      <td>0.0</td>\n",
       "      <td>1.0</td>\n",
       "      <td>0.0</td>\n",
       "      <td>4.404896</td>\n",
       "      <td>...</td>\n",
       "      <td>0.136364</td>\n",
       "      <td>0.8</td>\n",
       "      <td>-0.369697</td>\n",
       "      <td>-0.600</td>\n",
       "      <td>-0.166667</td>\n",
       "      <td>0.000000</td>\n",
       "      <td>0.000000</td>\n",
       "      <td>0.500000</td>\n",
       "      <td>0.000000</td>\n",
       "      <td>1200</td>\n",
       "    </tr>\n",
       "    <tr>\n",
       "      <th>4</th>\n",
       "      <td>13.0</td>\n",
       "      <td>1072.0</td>\n",
       "      <td>0.415646</td>\n",
       "      <td>1.0</td>\n",
       "      <td>0.540890</td>\n",
       "      <td>19.0</td>\n",
       "      <td>19.0</td>\n",
       "      <td>20.0</td>\n",
       "      <td>0.0</td>\n",
       "      <td>4.682836</td>\n",
       "      <td>...</td>\n",
       "      <td>0.033333</td>\n",
       "      <td>1.0</td>\n",
       "      <td>-0.220192</td>\n",
       "      <td>-0.500</td>\n",
       "      <td>-0.050000</td>\n",
       "      <td>0.454545</td>\n",
       "      <td>0.136364</td>\n",
       "      <td>0.045455</td>\n",
       "      <td>0.136364</td>\n",
       "      <td>505</td>\n",
       "    </tr>\n",
       "    <tr>\n",
       "      <th>5</th>\n",
       "      <td>10.0</td>\n",
       "      <td>370.0</td>\n",
       "      <td>0.559889</td>\n",
       "      <td>1.0</td>\n",
       "      <td>0.698198</td>\n",
       "      <td>2.0</td>\n",
       "      <td>2.0</td>\n",
       "      <td>0.0</td>\n",
       "      <td>0.0</td>\n",
       "      <td>4.359459</td>\n",
       "      <td>...</td>\n",
       "      <td>0.136364</td>\n",
       "      <td>0.6</td>\n",
       "      <td>-0.195000</td>\n",
       "      <td>-0.400</td>\n",
       "      <td>-0.100000</td>\n",
       "      <td>0.642857</td>\n",
       "      <td>0.214286</td>\n",
       "      <td>0.142857</td>\n",
       "      <td>0.214286</td>\n",
       "      <td>855</td>\n",
       "    </tr>\n",
       "    <tr>\n",
       "      <th>6</th>\n",
       "      <td>8.0</td>\n",
       "      <td>960.0</td>\n",
       "      <td>0.418163</td>\n",
       "      <td>1.0</td>\n",
       "      <td>0.549834</td>\n",
       "      <td>21.0</td>\n",
       "      <td>20.0</td>\n",
       "      <td>20.0</td>\n",
       "      <td>0.0</td>\n",
       "      <td>4.654167</td>\n",
       "      <td>...</td>\n",
       "      <td>0.100000</td>\n",
       "      <td>1.0</td>\n",
       "      <td>-0.224479</td>\n",
       "      <td>-0.500</td>\n",
       "      <td>-0.050000</td>\n",
       "      <td>0.000000</td>\n",
       "      <td>0.000000</td>\n",
       "      <td>0.500000</td>\n",
       "      <td>0.000000</td>\n",
       "      <td>556</td>\n",
       "    </tr>\n",
       "    <tr>\n",
       "      <th>7</th>\n",
       "      <td>12.0</td>\n",
       "      <td>989.0</td>\n",
       "      <td>0.433574</td>\n",
       "      <td>1.0</td>\n",
       "      <td>0.572108</td>\n",
       "      <td>20.0</td>\n",
       "      <td>20.0</td>\n",
       "      <td>20.0</td>\n",
       "      <td>0.0</td>\n",
       "      <td>4.617796</td>\n",
       "      <td>...</td>\n",
       "      <td>0.100000</td>\n",
       "      <td>1.0</td>\n",
       "      <td>-0.242778</td>\n",
       "      <td>-0.500</td>\n",
       "      <td>-0.050000</td>\n",
       "      <td>1.000000</td>\n",
       "      <td>0.500000</td>\n",
       "      <td>0.500000</td>\n",
       "      <td>0.500000</td>\n",
       "      <td>891</td>\n",
       "    </tr>\n",
       "    <tr>\n",
       "      <th>8</th>\n",
       "      <td>11.0</td>\n",
       "      <td>97.0</td>\n",
       "      <td>0.670103</td>\n",
       "      <td>1.0</td>\n",
       "      <td>0.836735</td>\n",
       "      <td>2.0</td>\n",
       "      <td>0.0</td>\n",
       "      <td>0.0</td>\n",
       "      <td>0.0</td>\n",
       "      <td>4.855670</td>\n",
       "      <td>...</td>\n",
       "      <td>0.400000</td>\n",
       "      <td>0.8</td>\n",
       "      <td>-0.125000</td>\n",
       "      <td>-0.125</td>\n",
       "      <td>-0.125000</td>\n",
       "      <td>0.125000</td>\n",
       "      <td>0.000000</td>\n",
       "      <td>0.375000</td>\n",
       "      <td>0.000000</td>\n",
       "      <td>3600</td>\n",
       "    </tr>\n",
       "    <tr>\n",
       "      <th>9</th>\n",
       "      <td>10.0</td>\n",
       "      <td>231.0</td>\n",
       "      <td>0.636364</td>\n",
       "      <td>1.0</td>\n",
       "      <td>0.797101</td>\n",
       "      <td>4.0</td>\n",
       "      <td>1.0</td>\n",
       "      <td>1.0</td>\n",
       "      <td>1.0</td>\n",
       "      <td>5.090909</td>\n",
       "      <td>...</td>\n",
       "      <td>0.100000</td>\n",
       "      <td>0.5</td>\n",
       "      <td>-0.238095</td>\n",
       "      <td>-0.500</td>\n",
       "      <td>-0.100000</td>\n",
       "      <td>0.000000</td>\n",
       "      <td>0.000000</td>\n",
       "      <td>0.500000</td>\n",
       "      <td>0.000000</td>\n",
       "      <td>710</td>\n",
       "    </tr>\n",
       "  </tbody>\n",
       "</table>\n",
       "<p>10 rows × 59 columns</p>\n",
       "</div>"
      ],
      "text/plain": [
       "   n_tokens_title  n_tokens_content  n_unique_tokens  n_non_stop_words  \\\n",
       "0            12.0             219.0         0.663594               1.0   \n",
       "1             9.0             255.0         0.604743               1.0   \n",
       "2             9.0             211.0         0.575130               1.0   \n",
       "3             9.0             531.0         0.503788               1.0   \n",
       "4            13.0            1072.0         0.415646               1.0   \n",
       "5            10.0             370.0         0.559889               1.0   \n",
       "6             8.0             960.0         0.418163               1.0   \n",
       "7            12.0             989.0         0.433574               1.0   \n",
       "8            11.0              97.0         0.670103               1.0   \n",
       "9            10.0             231.0         0.636364               1.0   \n",
       "\n",
       "   n_non_stop_unique_tokens  num_hrefs  num_self_hrefs  num_imgs  num_videos  \\\n",
       "0                  0.815385        4.0             2.0       1.0         0.0   \n",
       "1                  0.791946        3.0             1.0       1.0         0.0   \n",
       "2                  0.663866        3.0             1.0       1.0         0.0   \n",
       "3                  0.665635        9.0             0.0       1.0         0.0   \n",
       "4                  0.540890       19.0            19.0      20.0         0.0   \n",
       "5                  0.698198        2.0             2.0       0.0         0.0   \n",
       "6                  0.549834       21.0            20.0      20.0         0.0   \n",
       "7                  0.572108       20.0            20.0      20.0         0.0   \n",
       "8                  0.836735        2.0             0.0       0.0         0.0   \n",
       "9                  0.797101        4.0             1.0       1.0         1.0   \n",
       "\n",
       "   average_token_length  ...  min_positive_polarity  max_positive_polarity  \\\n",
       "0              4.680365  ...               0.100000                    0.7   \n",
       "1              4.913725  ...               0.033333                    0.7   \n",
       "2              4.393365  ...               0.100000                    1.0   \n",
       "3              4.404896  ...               0.136364                    0.8   \n",
       "4              4.682836  ...               0.033333                    1.0   \n",
       "5              4.359459  ...               0.136364                    0.6   \n",
       "6              4.654167  ...               0.100000                    1.0   \n",
       "7              4.617796  ...               0.100000                    1.0   \n",
       "8              4.855670  ...               0.400000                    0.8   \n",
       "9              5.090909  ...               0.100000                    0.5   \n",
       "\n",
       "   avg_negative_polarity  min_negative_polarity  max_negative_polarity  \\\n",
       "0              -0.350000                 -0.600              -0.200000   \n",
       "1              -0.118750                 -0.125              -0.100000   \n",
       "2              -0.466667                 -0.800              -0.133333   \n",
       "3              -0.369697                 -0.600              -0.166667   \n",
       "4              -0.220192                 -0.500              -0.050000   \n",
       "5              -0.195000                 -0.400              -0.100000   \n",
       "6              -0.224479                 -0.500              -0.050000   \n",
       "7              -0.242778                 -0.500              -0.050000   \n",
       "8              -0.125000                 -0.125              -0.125000   \n",
       "9              -0.238095                 -0.500              -0.100000   \n",
       "\n",
       "   title_subjectivity  title_sentiment_polarity  abs_title_subjectivity  \\\n",
       "0            0.500000                 -0.187500                0.000000   \n",
       "1            0.000000                  0.000000                0.500000   \n",
       "2            0.000000                  0.000000                0.500000   \n",
       "3            0.000000                  0.000000                0.500000   \n",
       "4            0.454545                  0.136364                0.045455   \n",
       "5            0.642857                  0.214286                0.142857   \n",
       "6            0.000000                  0.000000                0.500000   \n",
       "7            1.000000                  0.500000                0.500000   \n",
       "8            0.125000                  0.000000                0.375000   \n",
       "9            0.000000                  0.000000                0.500000   \n",
       "\n",
       "   abs_title_sentiment_polarity  shares  \n",
       "0                      0.187500     593  \n",
       "1                      0.000000     711  \n",
       "2                      0.000000    1500  \n",
       "3                      0.000000    1200  \n",
       "4                      0.136364     505  \n",
       "5                      0.214286     855  \n",
       "6                      0.000000     556  \n",
       "7                      0.500000     891  \n",
       "8                      0.000000    3600  \n",
       "9                      0.000000     710  \n",
       "\n",
       "[10 rows x 59 columns]"
      ]
     },
     "execution_count": 288,
     "metadata": {},
     "output_type": "execute_result"
    }
   ],
   "source": [
    "article_data = article_data.drop(columns=['url', 'timedelta'])\n",
    "article_data.head(10)"
   ]
  },
  {
   "cell_type": "markdown",
   "metadata": {
    "id": "ym1w_AqkRg7p"
   },
   "source": [
    "Next, we drop the `url` and `timedelta` columns, as they may not be relevant for our analysis."
   ]
  },
  {
   "cell_type": "code",
   "execution_count": 290,
   "metadata": {
    "colab": {
     "base_uri": "https://localhost:8080/",
     "height": 1000
    },
    "id": "fci2NJGHfqUb",
    "outputId": "31f508d3-0f01-4872-d682-c9d62932e046"
   },
   "outputs": [
    {
     "data": {
      "text/plain": [
       "n_tokens_title                   0\n",
       "n_tokens_content                 0\n",
       "n_unique_tokens                  0\n",
       "n_non_stop_words                 0\n",
       "n_non_stop_unique_tokens         0\n",
       "num_hrefs                        0\n",
       "num_self_hrefs                   0\n",
       "num_imgs                         0\n",
       "num_videos                       0\n",
       "average_token_length             0\n",
       "num_keywords                     0\n",
       "data_channel_is_lifestyle        0\n",
       "data_channel_is_entertainment    0\n",
       "data_channel_is_bus              0\n",
       "data_channel_is_socmed           0\n",
       "data_channel_is_tech             0\n",
       "data_channel_is_world            0\n",
       "kw_min_min                       0\n",
       "kw_max_min                       0\n",
       "kw_avg_min                       0\n",
       "kw_min_max                       0\n",
       "kw_max_max                       0\n",
       "kw_avg_max                       0\n",
       "kw_min_avg                       0\n",
       "kw_max_avg                       0\n",
       "kw_avg_avg                       0\n",
       "self_reference_min_shares        0\n",
       "self_reference_max_shares        0\n",
       "self_reference_avg_sharess       0\n",
       "weekday_is_monday                0\n",
       "weekday_is_tuesday               0\n",
       "weekday_is_wednesday             0\n",
       "weekday_is_thursday              0\n",
       "weekday_is_friday                0\n",
       "weekday_is_saturday              0\n",
       "weekday_is_sunday                0\n",
       "is_weekend                       0\n",
       "LDA_00                           0\n",
       "LDA_01                           0\n",
       "LDA_02                           0\n",
       "LDA_03                           0\n",
       "LDA_04                           0\n",
       "global_subjectivity              0\n",
       "global_sentiment_polarity        0\n",
       "global_rate_positive_words       0\n",
       "global_rate_negative_words       0\n",
       "rate_positive_words              0\n",
       "rate_negative_words              0\n",
       "avg_positive_polarity            0\n",
       "min_positive_polarity            0\n",
       "max_positive_polarity            0\n",
       "avg_negative_polarity            0\n",
       "min_negative_polarity            0\n",
       "max_negative_polarity            0\n",
       "title_subjectivity               0\n",
       "title_sentiment_polarity         0\n",
       "abs_title_subjectivity           0\n",
       "abs_title_sentiment_polarity     0\n",
       "shares                           0\n",
       "dtype: int64"
      ]
     },
     "execution_count": 290,
     "metadata": {},
     "output_type": "execute_result"
    }
   ],
   "source": [
    "article_data.isnull().sum()"
   ]
  },
  {
   "cell_type": "markdown",
   "metadata": {
    "id": "05_8mhuf8S4L"
   },
   "source": [
    "There are no null values in the dataset. This makes the data more readable and easier for model training."
   ]
  },
  {
   "cell_type": "markdown",
   "metadata": {
    "id": "Yje_V0R3K7eg"
   },
   "source": [
    "## **Exploratory Data Analysis**"
   ]
  },
  {
   "cell_type": "markdown",
   "metadata": {
    "id": "G2LFdmjn9bbs"
   },
   "source": [
    "Exploratory Data Analysis (EDA) is the process of analyzing and visualizing datasets to summarize their main characteristics, identify patterns, spot anomalies."
   ]
  },
  {
   "cell_type": "code",
   "execution_count": 294,
   "metadata": {
    "id": "JpttWu-oeo05"
   },
   "outputs": [],
   "source": [
    "# columns to change the datatype\n",
    "columns_to_convert = [\n",
    "    'data_channel_is_lifestyle', 'data_channel_is_entertainment', 'data_channel_is_bus',\n",
    "    'data_channel_is_socmed', 'data_channel_is_tech', 'data_channel_is_world',\n",
    "    'weekday_is_monday', 'weekday_is_tuesday', 'weekday_is_wednesday',\n",
    "    'weekday_is_thursday', 'weekday_is_friday', 'weekday_is_saturday',\n",
    "    'weekday_is_sunday', 'is_weekend'\n",
    "]\n",
    "\n",
    "# Convert the columns to object data type\n",
    "article_data[columns_to_convert] = article_data[columns_to_convert].astype('object')"
   ]
  },
  {
   "cell_type": "markdown",
   "metadata": {},
   "source": [
    "Since these features are categorical, we'll convert their datatype to object."
   ]
  },
  {
   "cell_type": "code",
   "execution_count": 296,
   "metadata": {
    "id": "j6vF_B5-eo05",
    "outputId": "df206529-3baa-40f6-f8ed-d596593240a9"
   },
   "outputs": [
    {
     "name": "stdout",
     "output_type": "stream",
     "text": [
      "n_tokens_title                   float64\n",
      "n_tokens_content                 float64\n",
      "n_unique_tokens                  float64\n",
      "n_non_stop_words                 float64\n",
      "n_non_stop_unique_tokens         float64\n",
      "num_hrefs                        float64\n",
      "num_self_hrefs                   float64\n",
      "num_imgs                         float64\n",
      "num_videos                       float64\n",
      "average_token_length             float64\n",
      "num_keywords                     float64\n",
      "data_channel_is_lifestyle         object\n",
      "data_channel_is_entertainment     object\n",
      "data_channel_is_bus               object\n",
      "data_channel_is_socmed            object\n",
      "data_channel_is_tech              object\n",
      "data_channel_is_world             object\n",
      "kw_min_min                       float64\n",
      "kw_max_min                       float64\n",
      "kw_avg_min                       float64\n",
      "kw_min_max                       float64\n",
      "kw_max_max                       float64\n",
      "kw_avg_max                       float64\n",
      "kw_min_avg                       float64\n",
      "kw_max_avg                       float64\n",
      "kw_avg_avg                       float64\n",
      "self_reference_min_shares        float64\n",
      "self_reference_max_shares        float64\n",
      "self_reference_avg_sharess       float64\n",
      "weekday_is_monday                 object\n",
      "weekday_is_tuesday                object\n",
      "weekday_is_wednesday              object\n",
      "weekday_is_thursday               object\n",
      "weekday_is_friday                 object\n",
      "weekday_is_saturday               object\n",
      "weekday_is_sunday                 object\n",
      "is_weekend                        object\n",
      "LDA_00                           float64\n",
      "LDA_01                           float64\n",
      "LDA_02                           float64\n",
      "LDA_03                           float64\n",
      "LDA_04                           float64\n",
      "global_subjectivity              float64\n",
      "global_sentiment_polarity        float64\n",
      "global_rate_positive_words       float64\n",
      "global_rate_negative_words       float64\n",
      "rate_positive_words              float64\n",
      "rate_negative_words              float64\n",
      "avg_positive_polarity            float64\n",
      "min_positive_polarity            float64\n",
      "max_positive_polarity            float64\n",
      "avg_negative_polarity            float64\n",
      "min_negative_polarity            float64\n",
      "max_negative_polarity            float64\n",
      "title_subjectivity               float64\n",
      "title_sentiment_polarity         float64\n",
      "abs_title_subjectivity           float64\n",
      "abs_title_sentiment_polarity     float64\n",
      "shares                             int64\n",
      "dtype: object\n"
     ]
    }
   ],
   "source": [
    "# sanity check\n",
    "print(article_data.dtypes)"
   ]
  },
  {
   "cell_type": "markdown",
   "metadata": {
    "id": "9AHY-GLmQEzk"
   },
   "source": [
    "### **Univariate Analysis**"
   ]
  },
  {
   "cell_type": "code",
   "execution_count": 298,
   "metadata": {
    "id": "o5v3oBw3eo06"
   },
   "outputs": [],
   "source": [
    "# Create function to plot dist and box plot for all the numeric features.\n",
    "\n",
    "def box_dist_plot(article_data , column):\n",
    "\n",
    "\n",
    "    \"\"\"\n",
    "\n",
    "    This function is to plot box-plot and distribution-plot for a given column,\n",
    "    column's median value, with count and percentage of null values.\n",
    "\n",
    "    Parameters :-\n",
    "        df : Dataframe           # df contains Dataframe.\n",
    "        column : str             # Column name which is to be ploted.\n",
    "\n",
    "    \"\"\"\n",
    "\n",
    "    plt.style.use('ggplot')\n",
    "\n",
    "    plt.figure(figsize=(18, 7))\n",
    "\n",
    "    # Box plot.\n",
    "    plt.subplot(121)\n",
    "    sns.boxplot(y = article_data[column])  # Create box plot\n",
    "    plt.title(f'Box Plot of : {column}')\n",
    "\n",
    "    # Distribution plot.\n",
    "    plt.subplot(122)\n",
    "    sns.histplot(article_data[column], bins=30, kde=True)  # Create histogram with KDE\n",
    "    plt.title(f'Distribution Plot of : {column}')\n",
    "\n",
    "    # Adjusting the layout.\n",
    "    plt.tight_layout()\n",
    "\n",
    "    plt.show()\n",
    "\n",
    "    # To print statistics.\n",
    "    print(article_data[column].describe())\n",
    "    print('Median :', article_data[column].median())\n",
    "    print()\n",
    "    print('Total Number of null values :', article_data[column].isnull().sum(), 'count,',\n",
    "          round(article_data[column].isnull().mean() * 100, 2), '%')"
   ]
  },
  {
   "cell_type": "code",
   "execution_count": 299,
   "metadata": {
    "id": "lGiJ7eaneo07",
    "outputId": "a3e31f6e-24c6-42b9-a85f-09f3a84926e2"
   },
   "outputs": [
    {
     "data": {
      "image/png": "[encoded data removed]",
      "text/plain": [
       "<Figure size 1800x700 with 2 Axes>"
      ]
     },
     "metadata": {},
     "output_type": "display_data"
    },
    {
     "name": "stdout",
     "output_type": "stream",
     "text": [
      "count    39644.000000\n",
      "mean        10.398749\n",
      "std          2.114037\n",
      "min          2.000000\n",
      "25%          9.000000\n",
      "50%         10.000000\n",
      "75%         12.000000\n",
      "max         23.000000\n",
      "Name: n_tokens_title, dtype: float64\n",
      "Median : 10.0\n",
      "\n",
      "Total Number of null values : 0 count, 0.0 %\n"
     ]
    }
   ],
   "source": [
    "#calling the function\n",
    "box_dist_plot(article_data,'n_tokens_title')"
   ]
  },
  {
   "cell_type": "markdown",
   "metadata": {},
   "source": [
    "Here, n_tokens_title represents the number of words in the title. The data is approximately normally distributed but contains outliers.\""
   ]
  },
  {
   "cell_type": "code",
   "execution_count": null,
   "metadata": {
    "id": "2grkNTZFeo07",
    "outputId": "2d336f08-fa6c-4f2b-d867-0c18ef307ec2"
   },
   "outputs": [],
   "source": [
    "# calling the function\n",
    "box_dist_plot(article_data, 'n_tokens_content')"
   ]
  },
  {
   "cell_type": "markdown",
   "metadata": {},
   "source": [
    " n_tokens_content represents the number of words in the content. The data is right-skewed and contains outliers."
   ]
  },
  {
   "cell_type": "code",
   "execution_count": null,
   "metadata": {
    "id": "8ARxxUn1eo08",
    "outputId": "d08739b0-6d55-4428-826c-cd85ff1d4315"
   },
   "outputs": [],
   "source": [
    "# calling the function\n",
    "box_dist_plot(article_data, 'n_unique_tokens')"
   ]
  },
  {
   "cell_type": "markdown",
   "metadata": {},
   "source": [
    "n_unique_tokens represents the rate of unique words in the content. The data is right-skewed and contains outliers"
   ]
  },
  {
   "cell_type": "code",
   "execution_count": null,
   "metadata": {
    "id": "yCphyKEFeo08",
    "outputId": "65bdffdd-dea3-4283-dc69-b0cc1ab12983"
   },
   "outputs": [],
   "source": [
    "# calling the function\n",
    "box_dist_plot(article_data, 'num_imgs')"
   ]
  },
  {
   "cell_type": "markdown",
   "metadata": {},
   "source": [
    "num_hrefs represents the number of links. The data is right-skewed and contains outliers."
   ]
  },
  {
   "cell_type": "code",
   "execution_count": null,
   "metadata": {
    "id": "MzntuDP9eo08",
    "outputId": "d6e3fab3-d3a7-495f-a214-fa125426ca32"
   },
   "outputs": [],
   "source": [
    "# calling the function\n",
    "box_dist_plot(article_data, 'n_non_stop_words')"
   ]
  },
  {
   "cell_type": "markdown",
   "metadata": {},
   "source": [
    "n_non_stop_words represents the rate of non-stop words in the content. The data is right-skewed and contains outliers"
   ]
  },
  {
   "cell_type": "code",
   "execution_count": null,
   "metadata": {
    "id": "EypMuh0ieo09",
    "outputId": "cd5393a8-9992-47af-e318-6f2ceb1dca90"
   },
   "outputs": [],
   "source": [
    "# calling the function\n",
    "box_dist_plot(article_data, 'n_non_stop_unique_tokens')"
   ]
  },
  {
   "cell_type": "markdown",
   "metadata": {},
   "source": [
    "n_non_stop_unique_tokens represents the rate of unique non-stop words in the content. The data is right-skewed and contains outliers."
   ]
  },
  {
   "cell_type": "code",
   "execution_count": null,
   "metadata": {
    "id": "wwvQYm4Yeo09",
    "outputId": "053fe2ec-9cdd-4cd5-dbcf-13b129533477"
   },
   "outputs": [],
   "source": [
    "#calling the function\n",
    "box_dist_plot(article_data, 'num_hrefs')"
   ]
  },
  {
   "cell_type": "markdown",
   "metadata": {},
   "source": [
    " represents the number of links. The data is right-skewed and contains outliers"
   ]
  },
  {
   "cell_type": "code",
   "execution_count": null,
   "metadata": {
    "id": "0NOGPq3eeo09",
    "outputId": "8981ed2e-66fe-4621-b312-bbaa0bf6b590"
   },
   "outputs": [],
   "source": [
    "#calling the function\n",
    "box_dist_plot(article_data, 'num_self_hrefs')"
   ]
  },
  {
   "cell_type": "markdown",
   "metadata": {},
   "source": [
    "num_self_hrefs represents the number of links to other articles published by Mashable. The data is right-skewed and contains outliers"
   ]
  },
  {
   "cell_type": "code",
   "execution_count": null,
   "metadata": {
    "id": "827HqQhXeo0-",
    "outputId": "1dd760f9-2f3f-49df-dd5a-b86e9d12b371"
   },
   "outputs": [],
   "source": [
    "# calling the function\n",
    "box_dist_plot(article_data, 'num_videos')"
   ]
  },
  {
   "cell_type": "markdown",
   "metadata": {},
   "source": [
    "num_videos represents the number of videos. The data is right-skewed and contains outliers"
   ]
  },
  {
   "cell_type": "code",
   "execution_count": null,
   "metadata": {
    "id": "9n8K-Wnteo0-",
    "outputId": "578db3de-f869-4278-e5dd-d31166a2fe28"
   },
   "outputs": [],
   "source": [
    "box_dist_plot(article_data, 'kw_min_max')"
   ]
  },
  {
   "cell_type": "markdown",
   "metadata": {},
   "source": [
    "The kw_min_max represents the best keyword's minimum share. The data is right-skewed and contains outliers."
   ]
  },
  {
   "cell_type": "code",
   "execution_count": null,
   "metadata": {
    "id": "3swk33K8eo0-",
    "outputId": "9f7202c6-6925-46b7-91b9-0ce91ebadc7e"
   },
   "outputs": [],
   "source": [
    "# calling the function\n",
    "box_dist_plot(article_data, 'average_token_length')"
   ]
  },
  {
   "cell_type": "markdown",
   "metadata": {},
   "source": [
    "average_token_length represents the average length of words in the content. The data is normally distributed and contains outliers"
   ]
  },
  {
   "cell_type": "code",
   "execution_count": null,
   "metadata": {
    "id": "SS9buGUieo0_",
    "outputId": "90ddd9fe-fb8c-4b5d-dcfa-0c94130c09db"
   },
   "outputs": [],
   "source": [
    "# calling the function\n",
    "box_dist_plot(article_data, 'num_keywords')"
   ]
  },
  {
   "cell_type": "markdown",
   "metadata": {},
   "source": [
    "num_keywords represents the number of keywords in the metadata. The data is left-skewed and contains only one outlier."
   ]
  },
  {
   "cell_type": "code",
   "execution_count": null,
   "metadata": {
    "id": "29pFJataeo0_",
    "outputId": "ba53a990-845a-4043-cd73-d55bc83e6ad3",
    "scrolled": true
   },
   "outputs": [],
   "source": [
    "#calling the function\n",
    "box_dist_plot(article_data, 'kw_min_min')"
   ]
  },
  {
   "cell_type": "markdown",
   "metadata": {},
   "source": [
    " kw_min_min represents Worst keyword minimum share.The data is right-skewed and contains outliers"
   ]
  },
  {
   "cell_type": "code",
   "execution_count": null,
   "metadata": {
    "id": "QE78Cmn8eo1N",
    "outputId": "5b5de426-db29-4538-deb3-20971c012f39"
   },
   "outputs": [],
   "source": [
    "#calling the function\n",
    "box_dist_plot(article_data, 'kw_max_min')"
   ]
  },
  {
   "cell_type": "markdown",
   "metadata": {},
   "source": [
    "kw_max_min represents the maximum share of the worst keyword. The data is right-skewed and contains outliers."
   ]
  },
  {
   "cell_type": "code",
   "execution_count": null,
   "metadata": {
    "id": "Hm6h_-ZFeo1N",
    "outputId": "69d7bc56-dd29-405e-92b6-9837e29c5c6f"
   },
   "outputs": [],
   "source": [
    "#calling the function\n",
    "box_dist_plot(article_data, 'kw_avg_min')"
   ]
  },
  {
   "cell_type": "markdown",
   "metadata": {},
   "source": [
    "kw_avg_min represents the average share of the worst keyword. The data is right-skewed and contains outliers."
   ]
  },
  {
   "cell_type": "code",
   "execution_count": null,
   "metadata": {
    "id": "3fhKFXqVeo1O",
    "outputId": "384bf062-3143-467f-f848-d8d65b4320da"
   },
   "outputs": [],
   "source": [
    "box_dist_plot(article_data, 'kw_max_max')"
   ]
  },
  {
   "cell_type": "markdown",
   "metadata": {},
   "source": [
    "kw_max_max represents the maximum share of the best keyword. The data is left-skewed and contains outliers."
   ]
  },
  {
   "cell_type": "code",
   "execution_count": null,
   "metadata": {
    "id": "85MYYbK-eo1O",
    "outputId": "01a8f52d-16f1-4c00-d2a1-97e56bc3c8ec"
   },
   "outputs": [],
   "source": [
    "box_dist_plot(article_data, 'kw_avg_max')"
   ]
  },
  {
   "cell_type": "markdown",
   "metadata": {},
   "source": [
    "kw_avg_max represents the average share of the best keyword. The data is right-skewed and contains outliers."
   ]
  },
  {
   "cell_type": "code",
   "execution_count": null,
   "metadata": {
    "id": "E9UpwnSKeo1P",
    "outputId": "9708da54-7217-451e-d48a-5a0ca8b45309"
   },
   "outputs": [],
   "source": [
    "box_dist_plot(article_data, 'kw_min_avg')"
   ]
  },
  {
   "cell_type": "markdown",
   "metadata": {},
   "source": [
    "kw_min_avg represents the minimum share of the average keyword. The data is right-skewed and contains no outliers."
   ]
  },
  {
   "cell_type": "code",
   "execution_count": null,
   "metadata": {
    "id": "7srYsbybeo1P",
    "outputId": "d5924920-25c1-4177-c994-9db60ce7ab0e"
   },
   "outputs": [],
   "source": [
    "box_dist_plot(article_data, 'kw_max_avg')"
   ]
  },
  {
   "cell_type": "markdown",
   "metadata": {},
   "source": [
    "kw_max_avg represents the maximum share of the average keyword. The data is right-skewed and contains outliers."
   ]
  },
  {
   "cell_type": "code",
   "execution_count": null,
   "metadata": {
    "id": "vnmXjoe8eo1P",
    "outputId": "24be6e39-7d61-426c-83d3-782d841ba07d"
   },
   "outputs": [],
   "source": [
    "box_dist_plot(article_data, 'kw_avg_avg')"
   ]
  },
  {
   "cell_type": "markdown",
   "metadata": {},
   "source": [
    "kw_avg_avg represents the average share of the average keyword. The data is right-skewed and contains outliers."
   ]
  },
  {
   "cell_type": "code",
   "execution_count": null,
   "metadata": {
    "id": "bzpk32XTeo1Q",
    "outputId": "2f9b6fc9-3a7f-416b-f757-b012bddc3d3a"
   },
   "outputs": [],
   "source": [
    "box_dist_plot(article_data, 'self_reference_min_shares')"
   ]
  },
  {
   "cell_type": "markdown",
   "metadata": {},
   "source": [
    "self_reference_min_shares represents the minimum shares of referenced articles on Mashable. The data is right-skewed and contains outliers"
   ]
  },
  {
   "cell_type": "code",
   "execution_count": null,
   "metadata": {
    "id": "_Zsc5c40eo1Q",
    "outputId": "5f1f2c7e-9880-45da-c363-8bf91aad5bc1"
   },
   "outputs": [],
   "source": [
    "box_dist_plot(article_data, 'self_reference_max_shares')"
   ]
  },
  {
   "cell_type": "markdown",
   "metadata": {},
   "source": [
    "self_reference_max_shares represents the maximum shares of referenced articles on Mashable. The data is right-skewed and contains outliers."
   ]
  },
  {
   "cell_type": "code",
   "execution_count": null,
   "metadata": {
    "id": "ZrhwCpRxeo1Q",
    "outputId": "4dea3626-d97f-4617-9980-7f38131497db"
   },
   "outputs": [],
   "source": [
    "box_dist_plot(article_data, 'self_reference_avg_sharess')"
   ]
  },
  {
   "cell_type": "markdown",
   "metadata": {},
   "source": [
    "self_reference_max_shares represents the maximum shares of referenced articles on Mashable. The data is right-skewed and contains outliers."
   ]
  },
  {
   "cell_type": "code",
   "execution_count": null,
   "metadata": {
    "id": "y0L-DKv4eo1Q",
    "outputId": "1e4047fb-bef7-40df-9d1b-17a2a10290d7"
   },
   "outputs": [],
   "source": [
    "article_data[['LDA_00','LDA_01', 'LDA_02', 'LDA_03', 'LDA_04']].hist(figsize=(10,10), bins=20)\n",
    "plt.show()"
   ]
  },
  {
   "cell_type": "code",
   "execution_count": null,
   "metadata": {
    "id": "7GU1NniReo1R",
    "outputId": "c825934d-3ea4-44ca-d44d-22f8b4852e7f"
   },
   "outputs": [],
   "source": [
    "article_data[['LDA_00','LDA_01', 'LDA_02', 'LDA_03', 'LDA_04']].boxplot(figsize=(6,6))\n",
    "plt.show()\n",
    "\n",
    "article_data[['LDA_00','LDA_01', 'LDA_02', 'LDA_03', 'LDA_04']].describe()"
   ]
  },
  {
   "cell_type": "markdown",
   "metadata": {},
   "source": [
    "LDA_00 represents the closeness to LDA topic 0. The data is right-skewed and contains outliers.\n",
    "\n",
    "LDA_01 represents the closeness to LDA topic 1. The data is right-skewed and contains outliers.\n",
    "\n",
    "LDA_02 represents the closeness to LDA topic 2. The data is right-skewed and contains outliers.\n",
    "\n",
    "LDA_03 represents the closeness to LDA topic 3. The data is right-skewed and contains outliers.\n",
    "\n",
    "LDA_04 represents the closeness to LDA topic 4. The data is right-skewed and contains no outliers."
   ]
  },
  {
   "cell_type": "code",
   "execution_count": null,
   "metadata": {
    "id": "U_IRYZZIeo1R",
    "outputId": "300f2bf3-58e4-4c7d-9702-28441edc94d3",
    "scrolled": true
   },
   "outputs": [],
   "source": [
    "# calling the function\n",
    "box_dist_plot(article_data, 'global_subjectivity')"
   ]
  },
  {
   "cell_type": "markdown",
   "metadata": {},
   "source": [
    "The global_subjectivity represents the text's subjectivity. The data is normally distributed and contains outliers."
   ]
  },
  {
   "cell_type": "code",
   "execution_count": null,
   "metadata": {
    "id": "Mmf2789xeo1R",
    "outputId": "ffc9fa20-c6ca-4fe5-c43c-81cda0d2d17c"
   },
   "outputs": [],
   "source": [
    "box_dist_plot(article_data, 'global_sentiment_polarity')"
   ]
  },
  {
   "cell_type": "markdown",
   "metadata": {},
   "source": [
    "The global_sentiment_polarity represents the text's sentiment polarity. The data is normally distributed and contains outliers."
   ]
  },
  {
   "cell_type": "code",
   "execution_count": null,
   "metadata": {
    "id": "5KERLKEHeo1S",
    "outputId": "19ace72b-d4a7-4389-e7b3-3f4dc8bb1e12"
   },
   "outputs": [],
   "source": [
    "box_dist_plot(article_data, 'global_rate_positive_words')"
   ]
  },
  {
   "cell_type": "markdown",
   "metadata": {},
   "source": [
    "global_rate_positive_words represents the rate of positive words in the content. The data is right-skewed and contains outliers."
   ]
  },
  {
   "cell_type": "code",
   "execution_count": null,
   "metadata": {
    "id": "fsOQvsg1eo1S",
    "outputId": "86a0d850-2879-4151-c368-fd0ab3deceba"
   },
   "outputs": [],
   "source": [
    "box_dist_plot(article_data, 'global_rate_negative_words')\n"
   ]
  },
  {
   "cell_type": "markdown",
   "metadata": {},
   "source": [
    "global_rate_negative_words represents the rate of negative words in the content. The data is right-skewed and contains outliers."
   ]
  },
  {
   "cell_type": "code",
   "execution_count": null,
   "metadata": {
    "id": "DBwp7yL-eo1S",
    "outputId": "3bd20bae-dd86-4c51-cecd-755b94e97231"
   },
   "outputs": [],
   "source": [
    "box_dist_plot(article_data, 'rate_positive_words')\n"
   ]
  },
  {
   "cell_type": "markdown",
   "metadata": {},
   "source": [
    "The rate_positive_words represents the rate of positive words among non-neutral tokens. The data is left-skewed and contains outliers."
   ]
  },
  {
   "cell_type": "code",
   "execution_count": null,
   "metadata": {
    "id": "hOo0WV9Keo1T",
    "outputId": "0f47cdf9-48d2-47c5-de84-01cfbef2dfa9"
   },
   "outputs": [],
   "source": [
    "box_dist_plot(article_data, 'rate_negative_words')"
   ]
  },
  {
   "cell_type": "markdown",
   "metadata": {},
   "source": [
    "rate_negative_words represents the rate of negative words among non-neutral tokens. The data is right-skewed and contains outliers"
   ]
  },
  {
   "cell_type": "code",
   "execution_count": null,
   "metadata": {
    "id": "4h3e1hOceo1U",
    "outputId": "6dab67b9-fbfb-4965-b8fa-9559ba79ef9f"
   },
   "outputs": [],
   "source": [
    "box_dist_plot(article_data, 'avg_positive_polarity')"
   ]
  },
  {
   "cell_type": "markdown",
   "metadata": {},
   "source": [
    "avg_positive_polarity represents the average polarity of positive words. The data is normally distributed and contains outliers."
   ]
  },
  {
   "cell_type": "code",
   "execution_count": null,
   "metadata": {
    "id": "38O2flZpeo1U",
    "outputId": "4c19ac0a-0477-49d5-d17b-b3f2e1685bea"
   },
   "outputs": [],
   "source": [
    "box_dist_plot(article_data, 'min_positive_polarity')\n"
   ]
  },
  {
   "cell_type": "markdown",
   "metadata": {},
   "source": [
    "min_positive_polarity represents the minimum polarity of positive words. The data is right-skewed and contains outliers."
   ]
  },
  {
   "cell_type": "code",
   "execution_count": null,
   "metadata": {
    "id": "Vf2nMD_reo1U",
    "outputId": "17cdf78b-d2c3-47be-d7b1-ce2dd7019589"
   },
   "outputs": [],
   "source": [
    "box_dist_plot(article_data, 'max_positive_polarity')"
   ]
  },
  {
   "cell_type": "markdown",
   "metadata": {},
   "source": [
    "max_positive_polarity represents the maximum polarity of positive words. The data is left-skewed and contains no outliers."
   ]
  },
  {
   "cell_type": "code",
   "execution_count": null,
   "metadata": {
    "id": "0MzFZD3Seo1U",
    "outputId": "b78d769e-4a81-4767-e62b-b720bc308d48"
   },
   "outputs": [],
   "source": [
    "box_dist_plot(article_data, 'min_negative_polarity')\n"
   ]
  },
  {
   "cell_type": "markdown",
   "metadata": {},
   "source": [
    "The avg_negative_polarity represents the average polarity of negative words. The data is left-skewed and contains outliers."
   ]
  },
  {
   "cell_type": "code",
   "execution_count": null,
   "metadata": {
    "id": "RLAt61fxeo1V",
    "outputId": "8957f401-80af-4173-c811-41e8735c1b88"
   },
   "outputs": [],
   "source": [
    "box_dist_plot(article_data, 'max_negative_polarity')"
   ]
  },
  {
   "cell_type": "markdown",
   "metadata": {},
   "source": [
    "max_negative_polarity represents the maximum polarity of negative words. The data is left-skewed and contains outliers."
   ]
  },
  {
   "cell_type": "code",
   "execution_count": null,
   "metadata": {
    "id": "v6ImyA0weo1V",
    "outputId": "b01f3b3b-3cfe-4767-bbf0-b9c9a9e337de"
   },
   "outputs": [],
   "source": [
    "box_dist_plot(article_data, 'title_subjectivity')"
   ]
  },
  {
   "cell_type": "markdown",
   "metadata": {},
   "source": [
    "The title_subjectivity represents the subjectivity level. The data is right-skewed and contains no outliers."
   ]
  },
  {
   "cell_type": "code",
   "execution_count": null,
   "metadata": {
    "id": "i4LzEmOzeo1V",
    "outputId": "2f483cc4-1b93-461c-d7b5-a5db2bb2dabf"
   },
   "outputs": [],
   "source": [
    "# calling the function\n",
    "box_dist_plot(article_data, 'title_sentiment_polarity')"
   ]
  },
  {
   "cell_type": "markdown",
   "metadata": {},
   "source": [
    "The title_sentiment_polarity measures the sentiment polarity. The data is normally distributed and contains outliers"
   ]
  },
  {
   "cell_type": "code",
   "execution_count": null,
   "metadata": {
    "id": "2t0egDFPeo1W",
    "outputId": "fe0010b2-be02-4e45-ed40-6d058da49bb1"
   },
   "outputs": [],
   "source": [
    "# calling the function\n",
    "box_dist_plot(article_data, 'abs_title_subjectivity')"
   ]
  },
  {
   "cell_type": "markdown",
   "metadata": {},
   "source": [
    "The abs_title_subjectivity represents the absolute subjectivity level . The data is left-skewed and contains no outliers"
   ]
  },
  {
   "cell_type": "code",
   "execution_count": null,
   "metadata": {
    "id": "BzR7ieKfeo1W",
    "outputId": "1649552c-19d9-4d8e-a2ce-d84e20db5ec1"
   },
   "outputs": [],
   "source": [
    "# calling the function\n",
    "box_dist_plot(article_data, 'abs_title_sentiment_polarity')"
   ]
  },
  {
   "cell_type": "markdown",
   "metadata": {},
   "source": [
    "The abs_title_sentiment_polarity represents the absolute polarity level . The data is right-skewed and contains outliers."
   ]
  },
  {
   "cell_type": "code",
   "execution_count": null,
   "metadata": {
    "id": "cDgdNZKMeo1X",
    "outputId": "1ec11299-2ac4-4dad-f61c-e5a04b568f50"
   },
   "outputs": [],
   "source": [
    "# calling the function\n",
    "box_dist_plot(article_data, 'shares')"
   ]
  },
  {
   "cell_type": "markdown",
   "metadata": {},
   "source": [
    "There are a few outliers. Most shares are between 0 and 1000, and the distribution is right-skewed"
   ]
  },
  {
   "cell_type": "code",
   "execution_count": null,
   "metadata": {
    "id": "xCBpPYAQeo1X"
   },
   "outputs": [],
   "source": [
    "# Generates a count plot and displays the count of each category for a specified column in the dataframe.\n",
    "\n",
    "def plot_category_counts(article_data, column):\n",
    "\n",
    "    \"\"\"\n",
    "    A function to plot a countplot and  displays the count of each category\n",
    "    for a specified column in the dataframe.\n",
    "\n",
    "        column : str\n",
    "        The name of the categorical column to plot and count.\n",
    "    \"\"\"\n",
    "\n",
    "    # Count plot for the specified column.\n",
    "    plt.figure(figsize=(10, 6))\n",
    "    sns.countplot(data=article_data, x=column, palette=\"viridis\")\n",
    "\n",
    "\n",
    "    # Set plot labels and title\n",
    "    plt.xlabel(column)\n",
    "    plt.ylabel('Count')\n",
    "    plt.xticks(rotation=90, ha='right')\n",
    "    plt.title(f'Count of {column}')\n",
    "\n",
    "    # Display the plot\n",
    "    plt.show()\n",
    "\n",
    "    # Display count of each category\n",
    "    counts = article_data[column].value_counts()\n",
    "    print(f\"\\nCounts for {column}:\\n{counts}\")\n",
    "\n",
    "    #For unique count of input\n",
    "    unique_count = article_data[column].nunique()\n",
    "    print(f\"\\nUnique for {column}:\\n{unique_count}\")"
   ]
  },
  {
   "cell_type": "code",
   "execution_count": null,
   "metadata": {
    "id": "Li1_nxpPeo1Y",
    "outputId": "e604041d-4d9a-4bfd-f40c-2f85f454e0fd"
   },
   "outputs": [],
   "source": [
    "plot_category_counts(article_data, 'data_channel_is_lifestyle')"
   ]
  },
  {
   "cell_type": "markdown",
   "metadata": {},
   "source": [
    "The data_channel_is_lifestyle variable represents whether the data channel is 'Lifestyle'. It contains two unique values, 0 and 1, with 0 being the most frequent"
   ]
  },
  {
   "cell_type": "code",
   "execution_count": null,
   "metadata": {
    "id": "hDj59kkseo1Y",
    "outputId": "d020a685-73fc-47cf-b5f9-4adfcd549b2a"
   },
   "outputs": [],
   "source": [
    "plot_category_counts(article_data, 'data_channel_is_entertainment')"
   ]
  },
  {
   "cell_type": "markdown",
   "metadata": {},
   "source": [
    "The data_channel_is_entertainment variable represents whether the data channel is 'Entertainment'. It contains two unique values, 0 and 1, with 0 having the highest count."
   ]
  },
  {
   "cell_type": "code",
   "execution_count": null,
   "metadata": {
    "id": "oAPo0WKreo1Z",
    "outputId": "09e04931-800d-40a2-cf8e-042cd2217c0a"
   },
   "outputs": [],
   "source": [
    "\n",
    "plot_category_counts(article_data, 'data_channel_is_bus')"
   ]
  },
  {
   "cell_type": "markdown",
   "metadata": {},
   "source": [
    "The data_channel_is_bus represents whether the data channel is 'Business'. It contains two unique values 0 and 1, with the count of 0 being the highest"
   ]
  },
  {
   "cell_type": "code",
   "execution_count": null,
   "metadata": {
    "id": "PslqNT5keo1Z",
    "outputId": "34665ab8-4d97-47ba-ef5a-4710c69a0a65"
   },
   "outputs": [],
   "source": [
    "plot_category_counts(article_data, 'data_channel_is_socmed')"
   ]
  },
  {
   "cell_type": "markdown",
   "metadata": {},
   "source": [
    "The data_channel_is_socmed represents whether the data channel is 'Social Media'. It contains two unique values 0 and 1, with the count of 0 being the highest"
   ]
  },
  {
   "cell_type": "code",
   "execution_count": null,
   "metadata": {
    "id": "pxwGJmvYeo1Z",
    "outputId": "4488a177-7c25-49fb-c9d1-518bbc45049a"
   },
   "outputs": [],
   "source": [
    "plot_category_counts(article_data, 'data_channel_is_tech')"
   ]
  },
  {
   "cell_type": "markdown",
   "metadata": {},
   "source": [
    "The data_channel_is_tech variable represents whether the data channel is 'Tech'. It contains two unique values, 0 and 1, with 0 occurring most frequently."
   ]
  },
  {
   "cell_type": "code",
   "execution_count": null,
   "metadata": {
    "id": "Y4hM6Q2keo1a",
    "outputId": "520df44f-733a-408c-f268-104bfc6ad976"
   },
   "outputs": [],
   "source": [
    "plot_category_counts(article_data, 'data_channel_is_world')"
   ]
  },
  {
   "cell_type": "markdown",
   "metadata": {},
   "source": [
    "The data_channel_is_world represents whether the data channel is 'World'. It contains two unique values 0 and 1, with the count of 0 being the highest."
   ]
  },
  {
   "cell_type": "code",
   "execution_count": null,
   "metadata": {
    "id": "Yc0BaO5eeo1a"
   },
   "outputs": [],
   "source": [
    "# Select the relevant columns for days of the week\n",
    "days_columns = article_data[['weekday_is_monday', 'weekday_is_tuesday', 'weekday_is_wednesday',\n",
    "                   'weekday_is_thursday', 'weekday_is_friday',\n",
    "                   'is_weekend']]\n",
    "# Reshape the data into a long format\n",
    "df_melted_days = pd.melt(days_columns, var_name='day_of_week', value_name='count')\n",
    "df_melted_days"
   ]
  },
  {
   "cell_type": "code",
   "execution_count": null,
   "metadata": {
    "id": "es0nzo7geo1a",
    "outputId": "a8f4f3bb-643f-4da0-aefb-9765fb8c9fa5"
   },
   "outputs": [],
   "source": [
    "# Plot using a grouped countplot\n",
    "plt.figure(figsize=(6,6))\n",
    "ax = sns.countplot(data=df_melted_days, x='day_of_week', hue='count')\n",
    "plt.title('Comparison of Article Counts by Day of the Week')\n",
    "plt.xlabel('Published Day of the Week')\n",
    "plt.xticks(rotation=90)\n",
    "plt.ylabel('Count')\n",
    "\n",
    "plt.show()"
   ]
  },
  {
   "cell_type": "markdown",
   "metadata": {},
   "source": [
    "Selected only the columns related to the days of the week from the dataset.\n",
    "Transformed the data into a long format to show each day and its corresponding count."
   ]
  },
  {
   "cell_type": "markdown",
   "metadata": {
    "id": "SjsHV8rceo1b"
   },
   "source": [
    "### **Bivariate Analysis**"
   ]
  },
  {
   "cell_type": "code",
   "execution_count": null,
   "metadata": {
    "id": "5MEdisYWeo1b",
    "outputId": "40eb6fb3-de49-4030-fa2e-d25ade63eb68"
   },
   "outputs": [],
   "source": [
    "# To find Correlation between the numerical columns to do bivariate analysis.\n",
    "article_data.corr()"
   ]
  },
  {
   "cell_type": "markdown",
   "metadata": {},
   "source": []
  },
  {
   "cell_type": "code",
   "execution_count": null,
   "metadata": {
    "id": "bY8zVtlIeo1b",
    "outputId": "e650e6a3-e5b3-4790-8a40-748e85630850"
   },
   "outputs": [],
   "source": [
    "# Grouping columns based on their purpose\n",
    "\n",
    "# Text and Content Features\n",
    "text_content_features = [\n",
    "    'n_tokens_title', 'n_tokens_content', 'n_unique_tokens',\n",
    "    'n_non_stop_words', 'n_non_stop_unique_tokens', 'num_hrefs',\n",
    "    'num_self_hrefs', 'num_imgs', 'num_videos', 'average_token_length',\n",
    "    'num_keywords'\n",
    "]\n",
    "\n",
    "# Weekday Features (Binary columns indicating each day of the week)\n",
    "weekday_features = [\n",
    "    'weekday_is_monday', 'weekday_is_tuesday', 'weekday_is_wednesday',\n",
    "    'weekday_is_thursday', 'weekday_is_friday', 'weekday_is_saturday',\n",
    "    'weekday_is_sunday', 'is_weekend'\n",
    "]\n",
    "\n",
    "# Data Channel Features (Binary columns indicating which channel)\n",
    "data_channel_features = [\n",
    "    'data_channel_is_lifestyle', 'data_channel_is_entertainment',\n",
    "    'data_channel_is_bus', 'data_channel_is_socmed', 'data_channel_is_tech',\n",
    "    'data_channel_is_world'\n",
    "]\n",
    "\n",
    "# Keyword Features (Keyword statistics)\n",
    "keyword_features = [\n",
    "    'kw_min_min', 'kw_max_min', 'kw_avg_min', 'kw_min_max', 'kw_max_max',\n",
    "    'kw_avg_max', 'kw_min_avg', 'kw_max_avg', 'kw_avg_avg'\n",
    "]\n",
    "\n",
    "# Self-reference Features (Self-reference shares statistics)\n",
    "self_reference_features = [\n",
    "    'self_reference_min_shares', 'self_reference_max_shares', 'self_reference_avg_sharess'\n",
    "]\n",
    "\n",
    "# Sentiment and Subjectivity Features\n",
    "sentiment_subjectivity_features = [\n",
    "    'global_subjectivity', 'global_sentiment_polarity', 'global_rate_positive_words',\n",
    "    'global_rate_negative_words', 'rate_positive_words', 'rate_negative_words',\n",
    "    'avg_positive_polarity', 'min_positive_polarity', 'max_positive_polarity',\n",
    "    'avg_negative_polarity', 'min_negative_polarity', 'max_negative_polarity',\n",
    "    'title_subjectivity', 'title_sentiment_polarity', 'abs_title_subjectivity',\n",
    "    'abs_title_sentiment_polarity'\n",
    "]\n",
    "\n",
    "# LDA Features (Latent Dirichlet Allocation topics)\n",
    "lda_features = [\n",
    "    'LDA_00', 'LDA_01', 'LDA_02', 'LDA_03', 'LDA_04'\n",
    "]\n",
    "\n",
    "# Numeric Columns (The columns that are numeric and can be used for analysis)\n",
    "numeric_columns = [\n",
    "    'shares'  # This would be your target variable, often numeric\n",
    "]\n",
    "\n",
    "# Combine all the groups into a dictionary for easy reference\n",
    "column_groups = {\n",
    "    \"Text and Content Features\": text_content_features,\n",
    "    \"Weekday Features\": weekday_features,\n",
    "    \"Data Channel Features\": data_channel_features,\n",
    "    \"Keyword Features\": keyword_features,\n",
    "    \"Self-reference Features\": self_reference_features,\n",
    "    \"Sentiment and Subjectivity Features\": sentiment_subjectivity_features,\n",
    "    \"LDA Features\": lda_features,\n",
    "    \"Numeric Columns\": numeric_columns\n",
    "}\n",
    "\n",
    "# Display the grouped columns\n",
    "for group, columns in column_groups.items():\n",
    "    print(f\"{group}: {columns}\\n\")\n"
   ]
  },
  {
   "cell_type": "code",
   "execution_count": null,
   "metadata": {
    "id": "VuWh5X9Qeo1c",
    "outputId": "866f03a2-bda2-46ea-cd1c-0fc3d5423156"
   },
   "outputs": [],
   "source": [
    "import seaborn as sns\n",
    "import matplotlib.pyplot as plt\n",
    "\n",
    "# Select the relevant columns for the correlation matrix\n",
    "correlation_content_data = article_data[text_content_features]\n",
    "\n",
    "# Compute the correlation matrix\n",
    "correlation_matrix = correlation_content_data.corr()\n",
    "\n",
    "# Plot the correlation matrix using a heatmap\n",
    "plt.figure(figsize=(10, 8))\n",
    "sns.heatmap(correlation_matrix, annot=True, cmap='coolwarm', fmt='.2f', linewidths=0.5)\n",
    "\n",
    "# Set title\n",
    "plt.title('Correlation Matrix of Text Content Features')\n",
    "\n",
    "# Show the plot\n",
    "plt.tight_layout()\n",
    "plt.show()\n"
   ]
  },
  {
   "cell_type": "markdown",
   "metadata": {},
   "source": [
    "Displays the correlation between various text content features such as `n_tokens_title`, `n_tokens_content`, `n_unique_tokens`, \n",
    "Dark red indicates a strong positive correlation, dark blue indicates a strong negative correlation, and lighter colors indicate weak or no correlation."
   ]
  },
  {
   "cell_type": "code",
   "execution_count": null,
   "metadata": {
    "id": "-tZmDHL6eo1c",
    "outputId": "ebbc7170-28ae-4f59-a6e3-86be6385a7f0"
   },
   "outputs": [],
   "source": [
    "import seaborn as sns\n",
    "import matplotlib.pyplot as plt\n",
    "\n",
    "# Select the relevant columns for the correlation matrix\n",
    "correlation_data_sentiment = article_data[sentiment_subjectivity_features]\n",
    "\n",
    "# Compute the correlation matrix\n",
    "correlation_matrix_sentiment = correlation_data_sentiment.corr()\n",
    "\n",
    "# Plot the correlation matrix using a heatmap\n",
    "plt.figure(figsize=(12, 10))\n",
    "sns.heatmap(correlation_matrix_sentiment, annot=True, cmap='coolwarm', fmt='.2f', linewidths=0.5)\n",
    "\n",
    "# Set title\n",
    "plt.title('Correlation Matrix of Sentiment and Subjectivity Features')\n",
    "\n",
    "# Show the plot\n",
    "plt.tight_layout()\n",
    "plt.show()\n"
   ]
  },
  {
   "cell_type": "markdown",
   "metadata": {},
   "source": [
    "Articles with more positive words usually have a higher sentiment score.\n",
    "Strong connection between avg_negative_polarity and min_negative_polarity since both measure negativity.\n",
    "Title sentiment does not strongly relate to the full text, meaning a title’s emotion might not match the article’s tone."
   ]
  },
  {
   "cell_type": "code",
   "execution_count": null,
   "metadata": {
    "id": "KSR_8_zUeo1d",
    "outputId": "2a2cd11a-9ce7-49d2-cdda-e362ecf3f6a3"
   },
   "outputs": [],
   "source": [
    "import seaborn as sns\n",
    "import matplotlib.pyplot as plt\n",
    "\n",
    "# Select the relevant columns for the correlation matrix\n",
    "correlation_data_self_reference = article_data[self_reference_features]\n",
    "\n",
    "# Compute the correlation matrix\n",
    "correlation_matrix_self_reference = correlation_data_self_reference.corr()\n",
    "\n",
    "# Plot the correlation matrix using a heatmap\n",
    "plt.figure(figsize=(8, 6))\n",
    "sns.heatmap(correlation_matrix_self_reference, annot=True, cmap='coolwarm', fmt='.2f', linewidths=0.5)\n",
    "\n",
    "# Set title\n",
    "plt.title('Correlation Matrix of Self Reference Features')\n",
    "\n",
    "# Show the plot\n",
    "plt.tight_layout()\n",
    "plt.show()\n"
   ]
  },
  {
   "cell_type": "markdown",
   "metadata": {},
   "source": [
    "Some articles have a big gap between their least and most shared instances."
   ]
  },
  {
   "cell_type": "code",
   "execution_count": null,
   "metadata": {},
   "outputs": [],
   "source": [
    "# Create subplots with 1 row and 2 columns\n",
    "fig, axes = plt.subplots(nrows=1, ncols=2, figsize=(12, 12))\n",
    "\n",
    "# Scatter plot of n_tokens_title vs. shares\n",
    "axes[0].scatter(article_data['n_tokens_title'], article_data['shares'])\n",
    "axes[0].set_title('n_tokens_title vs. shares')\n",
    "axes[0].set_xlabel('n_tokens_title')\n",
    "axes[0].set_ylabel('shares')\n",
    "\n",
    "\n",
    "\n",
    "# Scatter plot of n_unique_tokens vs. shares\n",
    "axes[1].scatter(article_data['n_unique_tokens'],  article_data['shares'])\n",
    "axes[1].set_title('n_unique_tokens vs. shares')\n",
    "axes[1].set_xlabel('n_unique_tokens')\n",
    "axes[1].set_ylabel('shares')\n",
    "\n",
    "# Display the plots\n",
    "plt.tight_layout()\n",
    "plt.show()\n",
    "\n"
   ]
  },
  {
   "cell_type": "markdown",
   "metadata": {},
   "source": [
    "In the n_tokens_title vs. shares scatter plot, we can see a pyramid-like shape. Most data points are at the bottom, with fewer as the number of title tokens increases. This suggests that articles with a moderate number of title tokens are more common, while very short or long titles are less frequent.\n",
    "\n",
    "In the n_unique_tokens vs. shares plot, the points move in a straight line going up. This shows that as the number of unique tokens increases, the number of shares tends to go up too, but there aren't many extreme values."
   ]
  },
  {
   "cell_type": "code",
   "execution_count": null,
   "metadata": {},
   "outputs": [],
   "source": [
    "\n",
    "import matplotlib.pyplot as plt\n",
    "\n",
    "# Create the first plot (num_imgs vs num_videos)\n",
    "fig1, ax1 = plt.subplots(figsize=(6, 6))\n",
    "ax1.scatter(article_data['num_imgs'],article_data['num_videos'])\n",
    "ax1.set_title('num_imgs vs num_videos')\n",
    "ax1.set_xlabel('num_imgs')\n",
    "ax1.set_ylabel('num_videos')\n",
    "\n",
    "# Display the first plot\n",
    "plt.tight_layout()\n",
    "plt.show()\n"
   ]
  },
  {
   "cell_type": "markdown",
   "metadata": {},
   "source": [
    "Most articles have only a few images and videos, and it's rare to see a lot of both in the same article. When the number of images goes up, the number of videos usually stays low."
   ]
  },
  {
   "cell_type": "code",
   "execution_count": null,
   "metadata": {},
   "outputs": [],
   "source": [
    "# Create the second plot (num_hrefs vs num_self_hrefs)\n",
    "fig2, ax2 = plt.subplots(figsize=(6, 6))\n",
    "ax2.scatter(article_data['num_hrefs'], article_data['num_self_hrefs'])\n",
    "ax2.set_title('num_hrefs vs. num_self_hrefs')\n",
    "ax2.set_xlabel('num_hrefs')\n",
    "ax2.set_ylabel('num_self_hrefs')\n",
    "\n",
    "# Display the second plot\n",
    "plt.tight_layout()\n",
    "plt.show()\n"
   ]
  },
  {
   "cell_type": "markdown",
   "metadata": {},
   "source": [
    "Most articles have a small number of links and self-references, as seen in the cluster at the bottom left.\n",
    "The triangular shape suggests that as the total number of links increases, self-references also increase but at a slower rate."
   ]
  },
  {
   "cell_type": "code",
   "execution_count": null,
   "metadata": {},
   "outputs": [],
   "source": [
    "\n",
    "# Create a scatter plot for n_non_stop_words vs n_non_stop_unique_tokens\n",
    "plt.figure(figsize=(8, 6))\n",
    "plt.scatter(article_data['n_non_stop_words'], article_data['n_non_stop_unique_tokens'])\n",
    "plt.title('n_non_stop_words vs n_non_stop_unique_tokens')\n",
    "plt.xlabel('n_non_stop_words')\n",
    "plt.ylabel('n_non_stop_unique_tokens')\n",
    "\n",
    "# Display the plot\n",
    "plt.tight_layout()\n",
    "plt.show()"
   ]
  },
  {
   "cell_type": "markdown",
   "metadata": {},
   "source": [
    "There are only a few points, which might mean some data is missing or limited. One article has very few non-stop words, while another has a lot more, showing a big difference between them."
   ]
  },
  {
   "cell_type": "code",
   "execution_count": null,
   "metadata": {},
   "outputs": [],
   "source": [
    "# Create a scatter plot to explore the relation between avg_negative_polarity and min_negative_polarity\n",
    "sns.scatterplot(x='avg_negative_polarity', y='min_negative_polarity', data=article_data, color='c')\n",
    "\n",
    "# Add title and display the plot\n",
    "plt.title('Scatter Plot: Relation between avg_negative_polarity and min_negative_polarity')\n",
    "plt.xlabel('avg_negative_polarity')\n",
    "plt.ylabel('min_negative_polarity')\n",
    "\n",
    "plt.show()"
   ]
  },
  {
   "cell_type": "markdown",
   "metadata": {},
   "source": [
    "The points go up in a pattern, meaning that as overall negativity increases, the most negative word also gets more negative.\n",
    "Many points are grouped together, which means a lot of articles have similar negativity, likely using common negative words."
   ]
  },
  {
   "cell_type": "code",
   "execution_count": null,
   "metadata": {},
   "outputs": [],
   "source": [
    "import seaborn as sns\n",
    "import matplotlib.pyplot as plt\n",
    "\n",
    "# Create a scatter plot to explore the relation between global_rate_negative_words and global_rate_positive_words\n",
    "sns.scatterplot(x='global_rate_negative_words', y='global_rate_positive_words', data=article_data, color='b')\n",
    "\n",
    "# Add title and labels\n",
    "plt.title('Scatter Plot: Relation between global_rate_negative_words and global_rate_positive_words')\n",
    "plt.xlabel('global_rate_negative_words')\n",
    "plt.ylabel('global_rate_positive_words')\n",
    "\n",
    "# Show the plot\n",
    "plt.tight_layout()\n",
    "plt.show()"
   ]
  },
  {
   "cell_type": "markdown",
   "metadata": {},
   "source": [
    "There's no clear pattern, meaning that articles with more negative words do not necessarily have more or fewer positive words.\n",
    "Most articles have a low percentage of both positive and negative words, which suggests that extreme language is not very common."
   ]
  },
  {
   "cell_type": "code",
   "execution_count": null,
   "metadata": {},
   "outputs": [],
   "source": [
    "# Plotting bargraph  to find the insight depends on data_channel_is_lifestyle and global_subjectivity Column.\n",
    "\n",
    "sns.barplot(x='data_channel_is_lifestyle', y='global_subjectivity' ,data=article_data, color='c')  \n",
    "plt.title('Bar Plot: Cases when data_channel_is_lifestyle')\n",
    "plt.show()"
   ]
  },
  {
   "cell_type": "markdown",
   "metadata": {},
   "source": [
    "More Count in 1 when compared to 0"
   ]
  },
  {
   "cell_type": "markdown",
   "metadata": {},
   "source": []
  },
  {
   "cell_type": "code",
   "execution_count": null,
   "metadata": {},
   "outputs": [],
   "source": [
    "# Plotting bargraph  to find the insight depends on data_channel_is_entertainment and global_sentiment_polarity Column.\n",
    "\n",
    "sns.barplot(x='data_channel_is_entertainment', y='global_sentiment_polarity' ,data=article_data, color='c')  \n",
    "plt.title('Bar Plot:Cases when data_channel_is_entertainment')\n",
    "plt.show()"
   ]
  },
  {
   "cell_type": "markdown",
   "metadata": {},
   "source": [
    "More Count in 0 when compared to 1"
   ]
  },
  {
   "cell_type": "markdown",
   "metadata": {},
   "source": []
  },
  {
   "cell_type": "code",
   "execution_count": null,
   "metadata": {},
   "outputs": [],
   "source": [
    "# Plotting bargraph  to find the insight depends on data_channel_is_tech and global_rate_negative_words Column.\n",
    "\n",
    "sns.barplot(x='data_channel_is_tech', y='global_rate_negative_words' ,data=article_data, color='c')  \n",
    "plt.title('Bar Plot:Cases when data_channel_is_tech')\n",
    "plt.show()"
   ]
  },
  {
   "cell_type": "markdown",
   "metadata": {},
   "source": [
    "More Count in 0 when compared to 1"
   ]
  },
  {
   "cell_type": "markdown",
   "metadata": {},
   "source": []
  },
  {
   "cell_type": "code",
   "execution_count": null,
   "metadata": {},
   "outputs": [],
   "source": [
    "# Plotting bargraph  to find the insight depends on data_channel_is_world and title_subjectivity Column.\n",
    "\n",
    "sns.barplot(x='data_channel_is_world', y='title_subjectivity' ,data=article_data, color='c')  \n",
    "plt.title('Bar Plot:Cases when data_channel_is_world')\n",
    "plt.show()"
   ]
  },
  {
   "cell_type": "markdown",
   "metadata": {},
   "source": [
    "More Count in 0 when compared to 1"
   ]
  },
  {
   "cell_type": "code",
   "execution_count": null,
   "metadata": {},
   "outputs": [],
   "source": []
  },
  {
   "cell_type": "code",
   "execution_count": null,
   "metadata": {},
   "outputs": [],
   "source": [
    "# Plotting bargraph  to find the insight depends on data_channel_is_world and shares.\n",
    "\n",
    "sns.barplot(x='data_channel_is_world', y='shares' ,data=article_data, color='c')  \n",
    "plt.title('Bar Plot:Cases when data_channel_is_world')\n",
    "plt.show()"
   ]
  },
  {
   "cell_type": "markdown",
   "metadata": {},
   "source": [
    "More Count in 0 when compared to 1"
   ]
  },
  {
   "cell_type": "code",
   "execution_count": null,
   "metadata": {},
   "outputs": [],
   "source": []
  },
  {
   "cell_type": "markdown",
   "metadata": {
    "id": "LTNC8OMceo1i"
   },
   "source": [
    "### **Multivariate Analysis**"
   ]
  },
  {
   "cell_type": "code",
   "execution_count": null,
   "metadata": {
    "id": "eonLjAczeo1i",
    "outputId": "9b53cf84-b6d8-426c-a0f8-594a46733de7"
   },
   "outputs": [],
   "source": [
    "\n",
    "# Create a pairplot for num_images, num_videos, and shares\n",
    "sns.pairplot(article_data[['num_imgs', 'num_videos', 'shares']])\n",
    "\n",
    "# Add title to the plot\n",
    "plt.suptitle('Pairplot: num_images, num_videos, and shares', y=1.02)\n",
    "\n",
    "# Display the plot\n",
    "plt.show()"
   ]
  },
  {
   "cell_type": "markdown",
   "metadata": {},
   "source": [
    "Number of Images & Shares\n",
    "Most articles have a small number of images.\n",
    "There is no strong trend showing that more images lead to more shares.\n",
    "A few articles with many images still have low shares, meaning more images do not always mean more engagement.\n",
    "Number of Videos & Shares\n",
    "Similar to images, most articles have a few videos.\n",
    "Articles with more videos do not always have higher shares, suggesting that videos alone do not necessarily lead to greater engagement.\n",
    "There is a slight pattern showing that articles with many images tend to have more videos too. However, neither images nor videos show a clear, strong relationship with shares."
   ]
  },
  {
   "cell_type": "code",
   "execution_count": null,
   "metadata": {
    "id": "eA4SVGPXeo1j",
    "outputId": "5f663fab-73ec-4c40-e728-27e099749675"
   },
   "outputs": [],
   "source": [
    "df_melted_days"
   ]
  },
  {
   "cell_type": "markdown",
   "metadata": {
    "id": "5AuqCNuxeo1j"
   },
   "source": [
    "## **Data Cleaning**"
   ]
  },
  {
   "cell_type": "code",
   "execution_count": null,
   "metadata": {
    "id": "QgwJDSW3eo1k",
    "outputId": "d207539b-a596-428a-ff99-d6ee43371718"
   },
   "outputs": [],
   "source": [
    "# Calculate the median percentage of shares\n",
    "median_shares = article_data[\"shares\"].median()\n",
    "\n",
    "# Create a new categorical variable based on the conditions using lambda function\n",
    "article_data['shares_level'] = article_data['shares'].apply(lambda x: 'low' if x < 0.5 * median_shares\n",
    "                                        else ('medium' if 0.5 * median_shares < x <= 1.5 * median_shares\n",
    "                                              else ('high' if x > 1.5 * median_shares else np.nan)))\n",
    "\n",
    "article_data['shares_level'].unique()"
   ]
  },
  {
   "cell_type": "markdown",
   "metadata": {},
   "source": [
    "Created a new variable "
   ]
  },
  {
   "cell_type": "code",
   "execution_count": null,
   "metadata": {
    "id": "ziuAapmVeo1k"
   },
   "outputs": [],
   "source": [
    "# Removing  the \"shares\"  attributes\n",
    "article_data.drop(['shares'], axis=1, inplace=True)"
   ]
  },
  {
   "cell_type": "markdown",
   "metadata": {},
   "source": [
    "This is done to eliminate result from the addition of the “share_level” indicator to our collection of attributes"
   ]
  },
  {
   "cell_type": "code",
   "execution_count": null,
   "metadata": {
    "id": "LUZIr1Oseo1k",
    "outputId": "9406b102-4d5b-43bb-fb4e-10eed9929dcf"
   },
   "outputs": [],
   "source": [
    "# Checking for negative value.\n",
    "# Selecting only numeric columns\n",
    "numeric_cols = article_data.select_dtypes(include=['float64', 'int64']).columns\n",
    "\n",
    "negative_check = article_data[numeric_cols].apply(lambda x: (x < 0).any())\n",
    "\n",
    "print(negative_check)"
   ]
  },
  {
   "cell_type": "markdown",
   "metadata": {},
   "source": [
    "We have negative values"
   ]
  },
  {
   "cell_type": "code",
   "execution_count": null,
   "metadata": {
    "id": "d8Z91XWGeo1l",
    "outputId": "c6933604-f731-4a4b-a184-bfec091d8309"
   },
   "outputs": [],
   "source": [
    "# Checking for zero values.\n",
    "\n",
    "zero_check = article_data[numeric_cols].apply(lambda x: (x == 0).any())\n",
    "\n",
    "print(zero_check)"
   ]
  },
  {
   "cell_type": "markdown",
   "metadata": {},
   "source": [
    "Zero values are present. To handle both zero and negative value, we shift the distribution via the addition of a single data value to all data values within the variable, e.g., if the smallest value in the distribution is -8 we would add 9 (since 8+1 will eliminate the largest negative value) to every data value within the variable."
   ]
  },
  {
   "cell_type": "code",
   "execution_count": null,
   "metadata": {
    "id": "Q1AB3uY6eo1l"
   },
   "outputs": [],
   "source": [
    "from scipy import stats\n"
   ]
  },
  {
   "cell_type": "code",
   "execution_count": null,
   "metadata": {
    "id": "a5aW2axreo1l",
    "outputId": "4db11ae4-6491-4421-80fa-d418d6f57c57"
   },
   "outputs": [],
   "source": [
    "columns = [\n",
    "    'n_tokens_title', 'n_tokens_content', 'n_unique_tokens',\n",
    "    'n_non_stop_words', 'n_non_stop_unique_tokens', 'num_hrefs', 'num_self_hrefs', 'num_imgs',\n",
    "    'num_videos', 'average_token_length', 'num_keywords', 'kw_min_min', 'kw_max_min',\n",
    "    'kw_avg_min', 'kw_min_max', 'kw_max_max', 'kw_avg_max', 'kw_min_avg', 'kw_max_avg',\n",
    "    'kw_avg_avg', 'self_reference_min_shares', 'self_reference_max_shares',\n",
    "    'self_reference_avg_sharess', 'LDA_00', 'LDA_01', 'LDA_02', 'LDA_03', 'LDA_04',\n",
    "    'global_subjectivity', 'global_sentiment_polarity', 'global_rate_positive_words',\n",
    "    'global_rate_negative_words', 'rate_positive_words', 'rate_negative_words',\n",
    "    'avg_positive_polarity', 'min_positive_polarity', 'max_positive_polarity',\n",
    "    'avg_negative_polarity', 'min_negative_polarity', 'max_negative_polarity',\n",
    "    'title_subjectivity', 'title_sentiment_polarity', 'abs_title_subjectivity',\n",
    "    'abs_title_sentiment_polarity'\n",
    "]\n",
    "\n",
    "for col in columns:\n",
    "    #  Calculating  the minimum value of the column\n",
    "    min_val = article_data[col].min()\n",
    "\n",
    "    #  Determining the shift anount\n",
    "    shift = abs(min_val) + 1 if min_val <= 0 else 0\n",
    "\n",
    "#    applying  the shift\n",
    "    article_data[col] += shift\n",
    "\n",
    "    # Perform Box-Cox transformation and save the lambda value\n",
    "    fitted_data, fitted_lambda = stats.boxcox(article_data[col])\n",
    "\n",
    "    #  Replace the original column with transformed data\n",
    "    article_data[col] = fitted_data\n",
    "\n",
    "    #  Print the lambda value for each column\n",
    "    print(f\"Lambda value for {col}: {fitted_lambda}\")"
   ]
  },
  {
   "cell_type": "code",
   "execution_count": null,
   "metadata": {
    "id": "wzBaT49Oeo1l",
    "outputId": "106ab6f5-7907-44c1-ca74-b0dd1c26dbd3"
   },
   "outputs": [],
   "source": [
    "numeric_colms = [\n",
    "    'n_tokens_title', 'n_tokens_content', 'n_unique_tokens',\n",
    "    'n_non_stop_words', 'n_non_stop_unique_tokens', 'num_hrefs', 'num_self_hrefs', 'num_imgs',\n",
    "    'num_videos', 'average_token_length', 'num_keywords', 'kw_min_min', 'kw_max_min',\n",
    "    'kw_avg_min', 'kw_min_max', 'kw_max_max', 'kw_avg_max', 'kw_min_avg', 'kw_max_avg',\n",
    "    'kw_avg_avg', 'self_reference_min_shares', 'self_reference_max_shares',\n",
    "    'self_reference_avg_sharess', 'LDA_00', 'LDA_01', 'LDA_02', 'LDA_03', 'LDA_04',\n",
    "    'global_subjectivity', 'global_sentiment_polarity', 'global_rate_positive_words',\n",
    "    'global_rate_negative_words', 'rate_positive_words', 'rate_negative_words',\n",
    "    'avg_positive_polarity', 'min_positive_polarity', 'max_positive_polarity',\n",
    "    'avg_negative_polarity', 'min_negative_polarity', 'max_negative_polarity',\n",
    "    'title_subjectivity', 'title_sentiment_polarity', 'abs_title_subjectivity',\n",
    "    'abs_title_sentiment_polarity'\n",
    "]\n",
    "# Looping through numeric columns to get the lower and upper bound values.\n",
    "for col in numeric_colms:\n",
    "    q1 = np.quantile(article_data[col], 0.25)\n",
    "    q3 = np.quantile(article_data[col], 0.75)\n",
    "    iqr = q3 - q1\n",
    "    upper_bound = q3 + (1.5 * iqr)\n",
    "    lower_bound = q1 - (1.5 * iqr)\n",
    "    range = [lower_bound, upper_bound]\n",
    "    print(f\"range in {col}:\",range)\n",
    "\n",
    "    # checking the maximum value\n",
    "    max_value = article_data[col].max()\n",
    "    print(f\"The maximum value in {col} is: {max_value}\")"
   ]
  },
  {
   "cell_type": "markdown",
   "metadata": {},
   "source": [
    "The outliers are valid data points.For example, in the feature n_tokens_content, it shows Number of words in the content the maximum value is 79.43, while the upper bound is 45.47, therefore it is a valid data value.\n",
    "\n",
    "Similarly, num_hrefs is the Number of links,comparing the upper bound which is 4 with the maximum value 7 also indicates a valid data point.\n",
    "\n",
    "Looking for num_imgs which represents Number of images,comparing the upper bound with the maximum value also indicates a valid data point."
   ]
  },
  {
   "cell_type": "code",
   "execution_count": null,
   "metadata": {
    "id": "3N8A-Vjveo1m",
    "outputId": "3029bb1f-4dfa-4f82-ada0-8880b94cda1f"
   },
   "outputs": [],
   "source": [
    "# Check class distribution\n",
    "class_counts = article_data['shares_level'].value_counts()\n",
    "print(\"Class distribution:\\n\", class_counts)\n",
    "\n",
    "# Calculate class distribution percentages\n",
    "class_percentage = article_data['shares_level'].value_counts(normalize=True) * 100\n",
    "print(\"\\nClass distribution percentages:\\n\", class_percentage)"
   ]
  },
  {
   "cell_type": "markdown",
   "metadata": {},
   "source": [
    "Our Target column is imbalanced."
   ]
  },
  {
   "cell_type": "markdown",
   "metadata": {
    "id": "qz8CHvVneo1m"
   },
   "source": [
    "## **Prepped Data Review**"
   ]
  },
  {
   "cell_type": "code",
   "execution_count": null,
   "metadata": {
    "id": "8Tl1WbHCeo1m",
    "outputId": "c6bd7065-fc9a-4b3a-b062-01bc960de041"
   },
   "outputs": [],
   "source": [
    "# Checking every columns has the correct data types.\n",
    "\n",
    "article_data.dtypes"
   ]
  },
  {
   "cell_type": "code",
   "execution_count": null,
   "metadata": {
    "id": "1grMDWw5eo1m",
    "outputId": "6baec5a2-c5a0-496b-a523-a0c1cbe8b959"
   },
   "outputs": [],
   "source": [
    "# Ensure that there are no duplicates.\n",
    "\n",
    "article_data.duplicated().sum()"
   ]
  },
  {
   "cell_type": "code",
   "execution_count": null,
   "metadata": {},
   "outputs": [],
   "source": []
  },
  {
   "cell_type": "code",
   "execution_count": null,
   "metadata": {
    "id": "W6nNZmyZeo1n",
    "outputId": "dc455649-825c-43f7-ecc5-9aa39febc135"
   },
   "outputs": [],
   "source": [
    "# Checking the descriptive statistics.\n",
    "\n",
    "article_data.describe()"
   ]
  },
  {
   "cell_type": "code",
   "execution_count": null,
   "metadata": {
    "id": "PiPfrNAYeo1n",
    "outputId": "d968715a-8a34-49d4-fef9-0574c531671d"
   },
   "outputs": [],
   "source": [
    "# Ensuring that there is no null value present.\n",
    "\n",
    "article_data.isnull().sum()"
   ]
  },
  {
   "cell_type": "code",
   "execution_count": null,
   "metadata": {
    "id": "DJmdwdB0eo1n",
    "outputId": "4b84f5d6-5eda-4a2e-e820-fc4593239b12"
   },
   "outputs": [],
   "source": [
    "# Creating a dictionary to map categories to colors\n",
    "color_mapping = { 'low': '#FFD700', 'medium': '#FF5733','high': '#7CFC00'}\n",
    "\n",
    "sns.countplot(data = article_data, x = 'shares_level', palette=color_mapping.values())\n",
    "\n",
    "# Summary statistics for 'reg_pct_level'\n",
    "display(article_data['shares_level'].describe())"
   ]
  },
  {
   "cell_type": "markdown",
   "metadata": {},
   "source": [
    "The new feature shares_level has three unique values, with medium having the highest count of 22,887, followed by high and low in second and third place, respectively"
   ]
  },
  {
   "cell_type": "code",
   "execution_count": null,
   "metadata": {
    "id": "ZGMKn-0Peo1o",
    "outputId": "1b2be719-b826-4b74-ab90-b42b2a10754c"
   },
   "outputs": [],
   "source": [
    "# Calling the function\n",
    "box_dist_plot(article_data,'n_tokens_title')"
   ]
  },
  {
   "cell_type": "markdown",
   "metadata": {},
   "source": [
    " visible outliers, and the distribution shows no significant change."
   ]
  },
  {
   "cell_type": "code",
   "execution_count": null,
   "metadata": {
    "id": "lOkZpVmWeo1o",
    "outputId": "3345df33-01c9-4056-ce11-5c9ef3eaee78"
   },
   "outputs": [],
   "source": [
    "box_dist_plot(article_data, 'n_tokens_content')"
   ]
  },
  {
   "cell_type": "markdown",
   "metadata": {},
   "source": [
    "There are visible outliers, and the distribution shows no significant change."
   ]
  },
  {
   "cell_type": "code",
   "execution_count": null,
   "metadata": {
    "id": "sqRY2LX2eo1o",
    "outputId": "af39851b-925f-4da7-abad-0b9654d5b74d",
    "scrolled": true
   },
   "outputs": [],
   "source": [
    "box_dist_plot(article_data, 'n_unique_tokens')"
   ]
  },
  {
   "cell_type": "markdown",
   "metadata": {},
   "source": [
    "There are visible outliers, and the distribution shows no significant change."
   ]
  },
  {
   "cell_type": "code",
   "execution_count": null,
   "metadata": {
    "id": "EY4pmvl4eo1o",
    "outputId": "78b05afc-6801-4837-a50e-9c7df8770829"
   },
   "outputs": [],
   "source": [
    "box_dist_plot(article_data, 'n_non_stop_words')"
   ]
  },
  {
   "cell_type": "markdown",
   "metadata": {},
   "source": [
    "There are visible outliers, and the distribution shows no significant change."
   ]
  },
  {
   "cell_type": "code",
   "execution_count": null,
   "metadata": {
    "id": "ETaCQc1Teo1p",
    "outputId": "54ced97b-6b70-4b04-c37a-afc438186cdd"
   },
   "outputs": [],
   "source": [
    "box_dist_plot(article_data, 'n_non_stop_unique_tokens')"
   ]
  },
  {
   "cell_type": "markdown",
   "metadata": {},
   "source": [
    "There are visible outliers, and the distribution shows no significant change."
   ]
  },
  {
   "cell_type": "code",
   "execution_count": null,
   "metadata": {
    "id": "iB_Zf17Qeo1p",
    "outputId": "b7faac37-d1f3-4c8c-d37c-27a2dba4da92",
    "scrolled": true
   },
   "outputs": [],
   "source": [
    "box_dist_plot(article_data, 'num_hrefs')"
   ]
  },
  {
   "cell_type": "markdown",
   "metadata": {},
   "source": [
    "There are visible outliers, and the distribution shows no significant change."
   ]
  },
  {
   "cell_type": "code",
   "execution_count": null,
   "metadata": {
    "id": "eqFNwc_Aeo1p",
    "outputId": "4693f4aa-a3d8-4b02-a0ef-b970892d2916"
   },
   "outputs": [],
   "source": [
    "\n",
    "box_dist_plot(article_data, 'num_imgs')"
   ]
  },
  {
   "cell_type": "markdown",
   "metadata": {},
   "source": [
    "There are visible outliers, and the distribution shows no significant change."
   ]
  },
  {
   "cell_type": "code",
   "execution_count": null,
   "metadata": {
    "id": "BoTdrvjDeo1q",
    "outputId": "f5e07287-ee3b-45ae-f157-896de193b797"
   },
   "outputs": [],
   "source": [
    "box_dist_plot(article_data, 'average_token_length')"
   ]
  },
  {
   "cell_type": "markdown",
   "metadata": {},
   "source": [
    "There are visible outliers, and the distribution shows no significant change."
   ]
  },
  {
   "cell_type": "code",
   "execution_count": null,
   "metadata": {
    "id": "HZhoujfJeo1q",
    "outputId": "67483515-8e95-48c0-8571-34aa8025f27b"
   },
   "outputs": [],
   "source": [
    "box_dist_plot(article_data, 'num_keywords')"
   ]
  },
  {
   "cell_type": "markdown",
   "metadata": {},
   "source": [
    "There are visible outliers, and the distribution shows no significant change."
   ]
  },
  {
   "cell_type": "code",
   "execution_count": null,
   "metadata": {
    "id": "nzi7Fg7Beo1r",
    "outputId": "271f7780-2f07-4dd1-c286-02af361aedc5"
   },
   "outputs": [],
   "source": [
    "box_dist_plot(article_data, 'kw_min_min')"
   ]
  },
  {
   "cell_type": "markdown",
   "metadata": {},
   "source": [
    "There are visible outliers, and the distribution shows no significant change."
   ]
  },
  {
   "cell_type": "code",
   "execution_count": null,
   "metadata": {
    "id": "VqD5LKOmeo1r",
    "outputId": "5c7b9ef9-dfd5-42b4-96c0-679c807c2407"
   },
   "outputs": [],
   "source": [
    "box_dist_plot(article_data, 'global_rate_positive_words')"
   ]
  },
  {
   "cell_type": "markdown",
   "metadata": {},
   "source": [
    "There are visible outliers, and the distribution shows no significant change."
   ]
  },
  {
   "cell_type": "code",
   "execution_count": null,
   "metadata": {
    "id": "AU_gY1NZeo1s",
    "outputId": "842a7a57-30d6-4575-905e-ed66e72bc865"
   },
   "outputs": [],
   "source": [
    "box_dist_plot(article_data, 'rate_positive_words')"
   ]
  },
  {
   "cell_type": "markdown",
   "metadata": {},
   "source": [
    "There are visible outliers, and the distribution shows no significant change."
   ]
  },
  {
   "cell_type": "code",
   "execution_count": null,
   "metadata": {
    "id": "AIdiof3yeo1s",
    "outputId": "c8205ef0-3a5f-46c7-eb1f-072d1a040cce"
   },
   "outputs": [],
   "source": [
    "box_dist_plot(article_data, 'self_reference_avg_sharess')"
   ]
  },
  {
   "cell_type": "markdown",
   "metadata": {},
   "source": [
    "There are visible outliers, and the distribution shows no significant change."
   ]
  },
  {
   "cell_type": "code",
   "execution_count": null,
   "metadata": {
    "id": "KBgJMjuLeo1s",
    "outputId": "d210293c-5db9-4f2d-95e2-d4de971a8445",
    "scrolled": true
   },
   "outputs": [],
   "source": [
    "\n",
    "sns.countplot(data = article_data, x = 'shares_level', palette=color_mapping.values())\n",
    "\n",
    "# Summary statistics for 'reg_pct_level'\n",
    "display(article_data['shares_level'].describe())"
   ]
  },
  {
   "cell_type": "markdown",
   "metadata": {},
   "source": [
    "More in medium and less in low "
   ]
  },
  {
   "cell_type": "markdown",
   "metadata": {},
   "source": []
  },
  {
   "cell_type": "code",
   "execution_count": null,
   "metadata": {
    "id": "GD19_7jteo1t",
    "outputId": "adda9b03-ff6a-4fbf-e3a3-7934ace93d91"
   },
   "outputs": [],
   "source": [
    "# Plotting scatterplot  to find the insight depends on n_unique_tokens and n_non_stop_words Column.\n",
    "sns.scatterplot(x='n_unique_tokens', y='n_non_stop_words' ,data=article_data, color='c')\n",
    "plt.title('Scatter Plot:Relation between n_unique_tokens and n_non_stop_words ')\n",
    "plt.show()"
   ]
  },
  {
   "cell_type": "markdown",
   "metadata": {},
   "source": [
    "It has strong Positive correlation of 0.70.\n",
    "When the number of n_unique_tokens increases then n_non_stop_words will aslo increase."
   ]
  },
  {
   "cell_type": "code",
   "execution_count": null,
   "metadata": {
    "id": "63HneOdweo1t",
    "outputId": "3ac30ef1-4b61-4551-92d8-446127fadbac"
   },
   "outputs": [],
   "source": [
    "# Plotting scatterplot  to find the insight depends on n_unique_tokens and n_non_stop_unique_tokens Column.\n",
    "\n",
    "sns.scatterplot(x='n_unique_tokens', y='n_non_stop_unique_tokens' ,data=article_data, color='c')\n",
    "plt.title('Scatter Plot:Relation between n_unique_tokens and n_non_stop_unique_tokens')\n",
    "plt.show()"
   ]
  },
  {
   "cell_type": "markdown",
   "metadata": {},
   "source": [
    "it has strong Positive correlation of 0.95.\n",
    "When the number of n_unique_tokens increases then n_non_stop_unique_tokens will aslo increase."
   ]
  },
  {
   "cell_type": "code",
   "execution_count": null,
   "metadata": {
    "id": "_VpHJhyueo1t",
    "outputId": "bb93d2d5-070c-4aea-8a85-b03d8d96994a"
   },
   "outputs": [],
   "source": [
    "# Plotting scatterplot  to find the insight depends on n_non_stop_words and n_non_stop_unique_tokens Column.\n",
    "\n",
    "sns.scatterplot(x='n_non_stop_words', y='n_non_stop_unique_tokens' ,data=article_data, color='c')\n",
    "plt.title('Scatter Plot:Relation between n_non_stop_words and n_non_stop_unique_tokens')\n",
    "plt.show()"
   ]
  },
  {
   "cell_type": "markdown",
   "metadata": {},
   "source": [
    "it has strong Positive correlation of 0.80.\n",
    "When the number of n_non_stop_words increases then n_non_stop_unique_tokens will aslo increase."
   ]
  },
  {
   "cell_type": "code",
   "execution_count": null,
   "metadata": {
    "id": "QRbpgYK4eo1u",
    "outputId": "746b3b16-b3bb-430f-8feb-c42f14844e60"
   },
   "outputs": [],
   "source": [
    "# Plotting scatterplot  to find the insight depends on avg_negative_polarity and min_negative_polarity Column.\n",
    "\n",
    "sns.scatterplot(x='avg_negative_polarity', y='min_negative_polarity' ,data=article_data, color='c')\n",
    "plt.title('Scatter Plot:Relation between avg_negative_polarity and min_negative_polarity ')\n",
    "plt.show()"
   ]
  },
  {
   "cell_type": "markdown",
   "metadata": {},
   "source": [
    "It has positive correlation of 0.80\n",
    "When the number of avg_negative_polarity increases then min_negative_polarity will aslo increase."
   ]
  },
  {
   "cell_type": "code",
   "execution_count": null,
   "metadata": {
    "id": "eNFQ1Q9Seo1u",
    "outputId": "d515597a-cbb8-4e1f-e262-be2edc34a23d"
   },
   "outputs": [],
   "source": [
    "# Plotting scatterplot  to find the insight depends on abs_title_sentiment_polarity and title_sentiment_polarity Column.\n",
    "\n",
    "sns.scatterplot(x='abs_title_sentiment_polarity', y='title_sentiment_polarity' ,data=article_data, color='c')  # code to plot bargraph\n",
    "plt.title('Scatter Plot:Relation between abs_title_sentiment_polarity and title_sentiment_polarity ')\n",
    "plt.show()"
   ]
  },
  {
   "cell_type": "markdown",
   "metadata": {},
   "source": [
    "There is no clear linear relation between the two columns.\n",
    "They are mirror image . So we can not tell, which is increasing and which is decreasing."
   ]
  },
  {
   "cell_type": "markdown",
   "metadata": {},
   "source": []
  },
  {
   "cell_type": "code",
   "execution_count": null,
   "metadata": {
    "id": "VmwvHvFEeo1v",
    "outputId": "cb779292-7f66-473f-b60a-91b72e9007ed"
   },
   "outputs": [],
   "source": [
    "# Plotting scatterplot  to find the insight depends on title_subjectivity and abs_title_sentiment_polarity Column.\n",
    "\n",
    "sns.scatterplot(x='title_subjectivity', y='abs_title_sentiment_polarity' ,data=article_data, color='c')  # code to plot bargraph\n",
    "plt.title('Scatter Plot:Relation between title_subjectivity and abs_title_sentiment_polarity')\n",
    "plt.show()"
   ]
  },
  {
   "cell_type": "markdown",
   "metadata": {},
   "source": [
    "It has positive correlation of 0.80\n",
    "When the number of title_subjectivity increases then abs_title_sentiment_polarity will aslo increase."
   ]
  },
  {
   "cell_type": "code",
   "execution_count": null,
   "metadata": {
    "id": "RPcXwdaheo1v"
   },
   "outputs": [],
   "source": [
    "def plot_bar_categorical_vs_categorical(article_data, cat_feature1, cat_feature2):\n",
    "    \"\"\"\n",
    "    Plots a bar plot to visualize the relationship between two categorical features.\n",
    "\n",
    "    Parameters:\n",
    "    df (DataFrame): The dataframe containing the data.\n",
    "    cat_feature1 (str): The first categorical feature (x-axis).\n",
    "    cat_feature2 (str): The second categorical feature (used for hue).\n",
    "    \"\"\"\n",
    "    plt.figure(figsize=(12, 6))\n",
    "    sns.countplot(data=article_data, x=cat_feature1, hue=cat_feature2)\n",
    "    plt.title(f'Bar Plot of {cat_feature1} vs {cat_feature2}')\n",
    "    plt.xlabel(cat_feature1)\n",
    "    plt.ylabel('Count')\n",
    "    plt.xticks(rotation=90)\n",
    "    plt.legend(title=cat_feature2)\n",
    "    plt.show()"
   ]
  },
  {
   "cell_type": "markdown",
   "metadata": {},
   "source": []
  },
  {
   "cell_type": "code",
   "execution_count": null,
   "metadata": {
    "id": "uAZXoDYaeo1v",
    "outputId": "a1383971-7348-4fd3-ee78-06efc1189b87"
   },
   "outputs": [],
   "source": [
    "plot_bar_categorical_vs_categorical(article_data, 'data_channel_is_lifestyle', 'shares_level')"
   ]
  },
  {
   "cell_type": "markdown",
   "metadata": {},
   "source": [
    "In 0 category of data_channel_is lifestyle more shares with respect to medium "
   ]
  },
  {
   "cell_type": "markdown",
   "metadata": {},
   "source": []
  },
  {
   "cell_type": "code",
   "execution_count": null,
   "metadata": {
    "id": "VLAUxAtjeo1w",
    "outputId": "0953fd41-fc7e-45e7-c419-819c418532fa"
   },
   "outputs": [],
   "source": [
    "plot_bar_categorical_vs_categorical(article_data, 'data_channel_is_bus', 'shares_level')"
   ]
  },
  {
   "cell_type": "markdown",
   "metadata": {},
   "source": [
    "In 0 category of data_channel_is_bus more shares with respect to medium "
   ]
  },
  {
   "cell_type": "markdown",
   "metadata": {},
   "source": []
  },
  {
   "cell_type": "markdown",
   "metadata": {
    "id": "7No4UM-Oeo1x"
   },
   "source": [
    "### **Ensuring Multivariate**"
   ]
  },
  {
   "cell_type": "code",
   "execution_count": null,
   "metadata": {
    "id": "w4b2AbWzeo1x",
    "outputId": "ca91e60c-16ba-464e-b9a9-f7732bad432e"
   },
   "outputs": [],
   "source": [
    "# Calculate mean values of each numerical feature grouped by target class\n",
    "multivariate_summary = article_data.groupby('shares_level')[['global_rate_positive_words',  'global_rate_negative_words']].mean()\n",
    "\n",
    "# Display the result\n",
    "print(\"Multivariate Analysis (Mean values by shares_level):\")\n",
    "print(multivariate_summary)\n",
    "\n",
    "# Plotting bar chart for mean values by shares_level\n",
    "multivariate_summary.plot(kind='bar', figsize=(12, 6), color=['lightgreen', 'orange'], width=0.8)\n",
    "\n",
    "# Add titles and labels\n",
    "plt.title('Mean Values of global_rate_positive_words and global_rate_negative_words by shares_level')\n",
    "plt.xlabel('shares_level')\n",
    "plt.ylabel('Mean Value')\n",
    "plt.xticks(rotation=45, ha='right')\n",
    "plt.tight_layout()\n",
    "\n",
    "# Display plot\n",
    "plt.show()"
   ]
  },
  {
   "cell_type": "markdown",
   "metadata": {},
   "source": [
    "The mean value of 'global_rate_positive_words' is maximum when the share level is high"
   ]
  },
  {
   "cell_type": "code",
   "execution_count": null,
   "metadata": {
    "id": "04uImt3ieo1x",
    "outputId": "d94391df-e039-4dbb-b701-cb48a0421dab"
   },
   "outputs": [],
   "source": [
    "# Calculate mean values of each numerical feature grouped by target class\n",
    "multivariate_summary = article_data.groupby('shares_level')[['rate_positive_words',  'rate_negative_words']].mean()\n",
    "\n",
    "# Display the result\n",
    "print(\"Multivariate Analysis (Mean values by shares_level):\")\n",
    "print(multivariate_summary)\n",
    "\n",
    "# Plotting bar chart for mean values by shares_level\n",
    "multivariate_summary.plot(kind='bar', figsize=(12, 6), color=['lightgreen', 'orange'], width=0.8)\n",
    "\n",
    "# Add titles and labels\n",
    "plt.title('Mean Values of rate_positive_words and rate_negative_words by shares_level')\n",
    "plt.xlabel('shares_level')\n",
    "plt.ylabel('Mean Value')\n",
    "plt.xticks(rotation=45, ha='right')\n",
    "\n",
    "# Display plot\n",
    "plt.show()"
   ]
  },
  {
   "cell_type": "markdown",
   "metadata": {},
   "source": [
    "The mean value of 'rate_positive_words' is maximum when the share level is high"
   ]
  },
  {
   "cell_type": "code",
   "execution_count": null,
   "metadata": {
    "id": "CvPLBGD1eo1y",
    "jupyter": {
     "source_hidden": true
    },
    "outputId": "85d8350a-68ba-438e-cb1e-f0fd02f4872a"
   },
   "outputs": [],
   "source": [
    "# Calculate mean values of each numerical feature grouped by target class\n",
    "multivariate_summary = article_data.groupby('data_channel_is_bus')[['rate_positive_words', 'rate_negative_words']].mean()\n",
    "\n",
    "# Display the result\n",
    "print(\"Multivariate Analysis (Mean values by data_channels):\")\n",
    "print(multivariate_summary)\n",
    "\n",
    "# Plotting bar chart for mean values by data_channels\n",
    "multivariate_summary.plot(kind='bar', figsize=(12, 6), color=['lightgreen', 'orange'], width=0.8)\n",
    "\n",
    "# Add titles and labels\n",
    "plt.title('Mean Values of rate_positive_words and rate_negative_words by data_channels')\n",
    "plt.xlabel('data_channels')\n",
    "plt.ylabel('Mean Value')\n",
    "plt.xticks(rotation=45, ha='right')\n",
    "plt.tight_layout()\n",
    "\n",
    "# Display plot\n",
    "plt.show()\n",
    "\n"
   ]
  },
  {
   "cell_type": "markdown",
   "metadata": {},
   "source": [
    "he mean value of the count of the rate of positive word is maximum for data channel \"Tech\"."
   ]
  },
  {
   "cell_type": "markdown",
   "metadata": {
    "id": "L4xNo6oCeo1z"
   },
   "source": [
    "## **Neural Network Modeling**"
   ]
  },
  {
   "cell_type": "markdown",
   "metadata": {
    "id": "IBHddAWOeo1z"
   },
   "source": [
    "Importing necessary libraries for neural network modeling"
   ]
  },
  {
   "cell_type": "code",
   "execution_count": null,
   "metadata": {
    "id": "m9JrQXkHeo10"
   },
   "outputs": [],
   "source": [
    "import pandas as pd\n",
    "import numpy as np\n",
    "import matplotlib.pyplot as plt\n",
    "import seaborn as sns\n",
    "from sklearn.model_selection import train_test_split\n",
    "from sklearn.preprocessing import StandardScaler, OneHotEncoder\n",
    "from sklearn.compose import ColumnTransformer\n",
    "from sklearn.pipeline import Pipeline\n",
    "from sklearn.feature_selection import SelectKBest, f_classif, RFE\n",
    "from sklearn.decomposition import PCA\n",
    "from sklearn.metrics import classification_report, confusion_matrix, accuracy_score\n",
    "from tensorflow.keras.models import Sequential\n",
    "from tensorflow.keras.layers import Dense, Dropout\n",
    "from tensorflow.keras.optimizers import Adam\n",
    "from tensorflow.keras.callbacks import EarlyStopping\n",
    "from tensorflow.keras.utils import to_categorical\n",
    "import tensorflow as tf\n",
    "import warnings\n",
    "warnings.filterwarnings('ignore')\n",
    "\n",
    "# Set random seeds for reproducibility\n",
    "np.random.seed(42)\n",
    "tf.random.set_seed(42)"
   ]
  },
  {
   "cell_type": "markdown",
   "metadata": {
    "id": "XqDqFh2Feo10"
   },
   "source": [
    "##### **Feature Selection and Dimensionality Reduction**"
   ]
  },
  {
   "cell_type": "code",
   "execution_count": null,
   "metadata": {
    "id": "MIuKNDfaeo10",
    "outputId": "f06a327b-c53e-4f39-870c-e2b65790ca23"
   },
   "outputs": [],
   "source": [
    "# Separate features and target variable\n",
    "X = article_data.drop('shares_level', axis=1)\n",
    "y = article_data['shares_level']\n",
    "\n",
    "# Convert categorical target to numeric for feature selection\n",
    "y_numeric = pd.get_dummies(y, drop_first=False).idxmax(1).map({'low': 0, 'medium': 1, 'high': 2})\n",
    "\n",
    "# Identify numeric and categorical columns\n",
    "numeric_cols = X.select_dtypes(include=['float64', 'int64']).columns.tolist()\n",
    "categorical_cols = X.select_dtypes(include=['object']).columns.tolist()\n",
    "\n",
    "print(f\"Number of numeric features: {len(numeric_cols)}\")\n",
    "print(f\"Number of categorical features: {len(categorical_cols)}\")\n",
    "\n",
    "# Method 1: SelectKBest - Univariate feature selection\n",
    "print(\"\\n--- Feature Selection using SelectKBest (ANOVA F-value) ---\")\n",
    "selector = SelectKBest(f_classif, k=15)  # Select top 15 features\n",
    "selector.fit(X[numeric_cols], y_numeric)\n",
    "selected_features_kbest = np.array(numeric_cols)[selector.get_support()]\n",
    "print(\"Top 15 features selected by SelectKBest:\")\n",
    "for i, feature in enumerate(selected_features_kbest):\n",
    "    score = selector.scores_[selector.get_support()][i]\n",
    "    print(f\"{feature}: {score:.2f}\")\n",
    "\n",
    "# Combining results to make an informed decision\n",
    "# Using the SelectKBest features plus the categorical variables\n",
    "final_features = list(selected_features_kbest) + categorical_cols\n",
    "print(f\"\\nFinal selected features (total: {len(final_features)}):\")\n",
    "print(final_features)"
   ]
  },
  {
   "cell_type": "markdown",
   "metadata": {
    "id": "WyuV7cDoeo11"
   },
   "source": [
    "Implemented feature selection using SelectKBest with ANOVA F-tests to identify the 15 most predictive features. And then combined selected numeric features with categorical features\n"
   ]
  },
  {
   "cell_type": "markdown",
   "metadata": {
    "id": "Ku5Wsyzyeo11"
   },
   "source": [
    "##### **Data Preprocessing and Splitting it**"
   ]
  },
  {
   "cell_type": "code",
   "execution_count": null,
   "metadata": {
    "id": "QOWm8WXOeo11",
    "outputId": "9c9dbd44-7927-4c95-dc7d-7362aa339253"
   },
   "outputs": [],
   "source": [
    "# Prepare data preprocessing pipeline\n",
    "numeric_transformer = Pipeline(steps=[\n",
    "    ('scaler', StandardScaler())\n",
    "])\n",
    "\n",
    "categorical_transformer = Pipeline(steps=[\n",
    "    ('onehot', OneHotEncoder(drop='first', sparse_output=False))\n",
    "])\n",
    "\n",
    "preprocessor = ColumnTransformer(\n",
    "    transformers=[\n",
    "        ('num', numeric_transformer, selected_features_kbest),\n",
    "        ('cat', categorical_transformer, categorical_cols)\n",
    "    ])\n",
    "\n",
    "\n",
    "# Check for NaN values in features and target\n",
    "print(\"\\n--- Checking for NaN values ---\")\n",
    "print(f\"NaN values in features: {X.isna().sum().sum()}\")\n",
    "print(f\"NaN values in target: {y.isna().sum()}\")\n",
    "\n",
    "# Remove rows with NaN values or impute them\n",
    "# Option 1: Remove rows with NaN values\n",
    "X_clean = X.dropna()\n",
    "y_clean = y.loc[X_clean.index]\n",
    "\n",
    "# Option 2: Or impute missing values (numerical features)\n",
    "from sklearn.impute import SimpleImputer\n",
    "\n",
    "# Create separate imputers for numeric and categorical data\n",
    "numeric_imputer = SimpleImputer(strategy='median')\n",
    "X[numeric_cols] = numeric_imputer.fit_transform(X[numeric_cols])\n",
    "\n",
    "# Make sure the target has no NaNs\n",
    "y = y.dropna()\n",
    "# Keep only rows that are in both X and y\n",
    "common_indices = X.index.intersection(y.index)\n",
    "X = X.loc[common_indices]\n",
    "y = y.loc[common_indices]\n",
    "\n",
    "print(f\"Clean data shape - X: {X.shape}, y: {y.shape}\")\n",
    "\n",
    "# Encode target and proceed with train-test split\n",
    "y_encoded = pd.get_dummies(y).values\n",
    "\n",
    "# Split data into training and testing sets\n",
    "X_train, X_test, y_train, y_test = train_test_split(\n",
    "    X[final_features],\n",
    "    y_encoded,\n",
    "    test_size=0.2,\n",
    "    random_state=42,\n",
    "    stratify=y\n",
    ")\n",
    "\n",
    "# Apply preprocessing\n",
    "X_train_processed = preprocessor.fit_transform(X_train)\n",
    "X_test_processed = preprocessor.transform(X_test)\n",
    "\n",
    "print(f\"\\nTraining data shape after preprocessing: {X_train_processed.shape}\")\n",
    "print(f\"Testing data shape after preprocessing: {X_test_processed.shape}\")\n",
    "\n",
    "# Get the number of input features after preprocessing\n",
    "input_dim = X_train_processed.shape[1]\n",
    "output_dim = y_encoded.shape[1]  # Number of classes\n",
    "\n",
    "print(f\"Input dimension for neural networks: {input_dim}\")\n",
    "print(f\"Output dimension (number of classes): {output_dim}\")"
   ]
  },
  {
   "cell_type": "markdown",
   "metadata": {
    "id": "gomAVGRJeo12"
   },
   "source": [
    "- Firstly, for preprocessing a scikit-learn's ColumnTransformer pipeline is create\n",
    "- Applying Standardization on numeric features\n",
    "- Encoding categorical variables\n",
    "- Handleing missing values through imputation\n",
    "- Spliting data into training (80%) and test (20%) sets with stratification\n",
    "- One-hot encoding the target variable (shares_level)"
   ]
  },
  {
   "cell_type": "markdown",
   "metadata": {
    "id": "WYNWDyDqeo12"
   },
   "source": [
    "##### **Building Three Different Neural Network Models**"
   ]
  },
  {
   "cell_type": "code",
   "execution_count": null,
   "metadata": {
    "id": "j73KzdGYeo12",
    "outputId": "428dd47c-7a51-4200-b72a-496fe49160df"
   },
   "outputs": [],
   "source": [
    "# Set up early stopping callback to prevent overfitting\n",
    "early_stopping = EarlyStopping(\n",
    "    monitor='val_loss',\n",
    "    patience=10,\n",
    "    restore_best_weights=True,\n",
    "    verbose=1\n",
    ")\n",
    "\n",
    "# Model 1: Simple network with 2 hidden layers\n",
    "print(\"\\n--- Model 1: Simple Network with 2 Hidden Layers ---\")\n",
    "model1 = Sequential([\n",
    "    Dense(64, activation='relu', input_shape=(input_dim,)),\n",
    "    Dense(32, activation='relu'),\n",
    "    Dense(output_dim, activation='softmax')\n",
    "])\n",
    "\n",
    "model1.compile(\n",
    "    optimizer=Adam(learning_rate=0.001),\n",
    "    loss='categorical_crossentropy',\n",
    "    metrics=['accuracy']\n",
    ")\n",
    "\n",
    "print(model1.summary())\n",
    "\n",
    "# Model 2: Deeper network with more neurons and dropout\n",
    "print(\"\\n--- Model 2: Deeper Network with Dropout Layers ---\")\n",
    "model2 = Sequential([\n",
    "    Dense(128, activation='relu', input_shape=(input_dim,)),\n",
    "    Dropout(0.3),\n",
    "    Dense(64, activation='relu'),\n",
    "    Dropout(0.2),\n",
    "    Dense(32, activation='relu'),\n",
    "    Dense(output_dim, activation='softmax')\n",
    "])\n",
    "\n",
    "model2.compile(\n",
    "    optimizer=Adam(learning_rate=0.0005),\n",
    "    loss='categorical_crossentropy',\n",
    "    metrics=['accuracy']\n",
    ")\n",
    "\n",
    "print(model2.summary())\n",
    "\n",
    "# Model 3: Different activation functions and learning rate\n",
    "print(\"\\n--- Model 3: Different Activation Functions ---\")\n",
    "model3 = Sequential([\n",
    "    Dense(64, activation='elu', input_shape=(input_dim,)),\n",
    "    Dense(64, activation='elu'),\n",
    "    Dense(32, activation='elu'),\n",
    "    Dense(output_dim, activation='softmax')\n",
    "])\n",
    "\n",
    "model3.compile(\n",
    "    optimizer=Adam(learning_rate=0.0001),\n",
    "    loss='categorical_crossentropy',\n",
    "    metrics=['accuracy']\n",
    ")\n",
    "\n",
    "print(model3.summary())"
   ]
  },
  {
   "cell_type": "markdown",
   "metadata": {
    "id": "w8YgcVyXeo13"
   },
   "source": [
    "Prepared 3 different neural network architectures\n",
    "- **Model 1:** It has two hidden layers (64, 32 neurons) with ReLU activation and learning rate of 0.001\n",
    "- **Model 2:** This one has three hidden layers (128, 64, 32 neurons) with dropout regularization (0.3, 0.2 rates) and lower learning rate (0.0005)\n",
    "- **Model 3:** Last one consists of three hidden layers (64, 64, 32 neurons) with ELU activation function and much lower learning rate (0.0001)\n",
    "\n",
    "\n",
    "All of these models use\n",
    "- Adam optimizer\n",
    "- Categorical cross-entropy loss function\n",
    "- Softmax activation in output layer for multi-class classification"
   ]
  },
  {
   "cell_type": "markdown",
   "metadata": {
    "id": "7GAGW0mKeo13"
   },
   "source": [
    "##### **Training and Evaluating the Models**"
   ]
  },
  {
   "cell_type": "markdown",
   "metadata": {
    "id": "kd6vrqNveo14"
   },
   "source": [
    "Now for training, creating a function to standardize training and evaluation across all models which consists of\n",
    "- Early stopping to prevent overfitting (calculated on validation loss)\n",
    "- Evaluation of models using accuracy, classification reports and confusion matrices\n",
    "- Visualization of training/validation accuracy and loss curves\n",
    "- Batch size of 64 and maximum 50 epochs (with early stopping)\n",
    "\n",
    "Then calling the function for each model"
   ]
  },
  {
   "cell_type": "code",
   "execution_count": null,
   "metadata": {
    "id": "BfABpdk1eo14",
    "outputId": "d1a25877-a4f9-4852-91d9-c37fa0a4a668"
   },
   "outputs": [],
   "source": [
    "# Function to train and evaluate models\n",
    "def train_and_evaluate_model(model, model_name, X_train, y_train, X_test, y_test):\n",
    "    print(f\"\\nTraining {model_name}...\")\n",
    "\n",
    "    history = model.fit(\n",
    "        X_train, y_train,\n",
    "        epochs=50,\n",
    "        batch_size=64,\n",
    "        validation_split=0.2,\n",
    "        callbacks=[early_stopping],\n",
    "        verbose=0\n",
    "    )\n",
    "\n",
    "    # Evaluate the model\n",
    "    test_loss, test_acc = model.evaluate(X_test, y_test, verbose=0)\n",
    "    print(f\"{model_name} Test Accuracy: {test_acc:.4f}\")\n",
    "\n",
    "    # Predictions\n",
    "    y_pred = model.predict(X_test, verbose=0)\n",
    "    y_pred_classes = np.argmax(y_pred, axis=1)\n",
    "    y_test_classes = np.argmax(y_test, axis=1)\n",
    "\n",
    "    # Classification report\n",
    "    class_names = ['low', 'medium', 'high']\n",
    "    print(f\"\\nClassification Report for {model_name}:\")\n",
    "    print(classification_report(y_test_classes, y_pred_classes, target_names=class_names))\n",
    "\n",
    "    # Confusion Matrix\n",
    "    cm = confusion_matrix(y_test_classes, y_pred_classes)\n",
    "    plt.figure(figsize=(8, 6))\n",
    "    sns.heatmap(cm, annot=True, fmt='d', cmap='Blues',\n",
    "                xticklabels=class_names,\n",
    "                yticklabels=class_names)\n",
    "    plt.title(f'Confusion Matrix - {model_name}')\n",
    "    plt.ylabel('True Label')\n",
    "    plt.xlabel('Predicted Label')\n",
    "    plt.tight_layout()\n",
    "    plt.show()\n",
    "\n",
    "    # Plot training history\n",
    "    plt.figure(figsize=(12, 4))\n",
    "\n",
    "    plt.subplot(1, 2, 1)\n",
    "    plt.plot(history.history['accuracy'], label='Training Accuracy')\n",
    "    plt.plot(history.history['val_accuracy'], label='Validation Accuracy')\n",
    "    plt.title(f'{model_name} - Accuracy')\n",
    "    plt.xlabel('Epoch')\n",
    "    plt.ylabel('Accuracy')\n",
    "    plt.legend()\n",
    "\n",
    "    plt.subplot(1, 2, 2)\n",
    "    plt.plot(history.history['loss'], label='Training Loss')\n",
    "    plt.plot(history.history['val_loss'], label='Validation Loss')\n",
    "    plt.title(f'{model_name} - Loss')\n",
    "    plt.xlabel('Epoch')\n",
    "    plt.ylabel('Loss')\n",
    "    plt.legend()\n",
    "\n",
    "    plt.tight_layout()\n",
    "    plt.show()\n",
    "\n",
    "    return test_acc, history\n",
    "\n",
    "# Train and evaluate all models\n",
    "acc1, history1 = train_and_evaluate_model(model1, \"Model 1 (Simple Network)\",\n",
    "                                         X_train_processed, y_train,\n",
    "                                         X_test_processed, y_test)\n",
    "\n",
    "acc2, history2 = train_and_evaluate_model(model2, \"Model 2 (Deep Network with Dropout)\",\n",
    "                                         X_train_processed, y_train,\n",
    "                                         X_test_processed, y_test)\n",
    "\n",
    "acc3, history3 = train_and_evaluate_model(model3, \"Model 3 (Different Activations)\",\n",
    "                                         X_train_processed, y_train,\n",
    "                                         X_test_processed, y_test)"
   ]
  },
  {
   "cell_type": "markdown",
   "metadata": {
    "id": "PfkGnYHoeo15"
   },
   "source": [
    "## **Select Models**"
   ]
  },
  {
   "cell_type": "code",
   "execution_count": null,
   "metadata": {
    "id": "gJFSRz52eo15"
   },
   "outputs": [],
   "source": [
    "from sklearn.model_selection import KFold, cross_val_score\n",
    "from sklearn.metrics import accuracy_score, classification_report, confusion_matrix\n",
    "from scikeras.wrappers import KerasClassifier\n",
    "\n",
    "# Number of folds for cross-validation\n",
    "k_folds = 5\n"
   ]
  },
  {
   "cell_type": "markdown",
   "metadata": {
    "id": "WGLolCP7eo16"
   },
   "source": [
    "Defining functions to create same model architectures for cross validation\n"
   ]
  },
  {
   "cell_type": "code",
   "execution_count": null,
   "metadata": {
    "id": "KHjOty4-eo16"
   },
   "outputs": [],
   "source": [
    "def create_model1():\n",
    "    model = Sequential([\n",
    "        Dense(64, activation='relu', input_shape=(input_dim,)),\n",
    "        Dense(32, activation='relu'),\n",
    "        Dense(output_dim, activation='softmax')\n",
    "    ])\n",
    "    model.compile(\n",
    "        optimizer=Adam(learning_rate=0.001),\n",
    "        loss='categorical_crossentropy',\n",
    "        metrics=['accuracy']\n",
    "    )\n",
    "    return model\n",
    "\n",
    "def create_model2():\n",
    "    model = Sequential([\n",
    "        Dense(128, activation='relu', input_shape=(input_dim,)),\n",
    "        Dropout(0.3),\n",
    "        Dense(64, activation='relu'),\n",
    "        Dropout(0.2),\n",
    "        Dense(32, activation='relu'),\n",
    "        Dense(output_dim, activation='softmax')\n",
    "    ])\n",
    "    model.compile(\n",
    "        optimizer=Adam(learning_rate=0.0005),\n",
    "        loss='categorical_crossentropy',\n",
    "        metrics=['accuracy']\n",
    "    )\n",
    "    return model\n",
    "\n",
    "def create_model3():\n",
    "    model = Sequential([\n",
    "        Dense(64, activation='elu', input_shape=(input_dim,)),\n",
    "        Dense(64, activation='elu'),\n",
    "        Dense(32, activation='elu'),\n",
    "        Dense(output_dim, activation='softmax')\n",
    "    ])\n",
    "    model.compile(\n",
    "        optimizer=Adam(learning_rate=0.0001),\n",
    "        loss='categorical_crossentropy',\n",
    "        metrics=['accuracy']\n",
    "    )\n",
    "    return model"
   ]
  },
  {
   "cell_type": "markdown",
   "metadata": {
    "id": "rVPhSdBKeo16"
   },
   "source": [
    "Function that performs cross validation\n"
   ]
  },
  {
   "cell_type": "code",
   "execution_count": null,
   "metadata": {
    "id": "9YjDP9Eeeo17"
   },
   "outputs": [],
   "source": [
    "def perform_cv(model, model_name):\n",
    "    kfold = KFold(n_splits=k_folds, shuffle=True, random_state=42)\n",
    "\n",
    "    # Lists to store metrics for each fold\n",
    "    fold_accuracies = []\n",
    "    fold_precisions = []\n",
    "    fold_recalls = []\n",
    "    fold_f1s = []\n",
    "\n",
    "    print(f\"\\nCross-validation for {model_name}:\")\n",
    "\n",
    "    fold = 1\n",
    "    for train_idx, val_idx in kfold.split(X_train_processed):\n",
    "        # Split data for this fold\n",
    "        X_fold_train, X_fold_val = X_train_processed[train_idx], X_train_processed[val_idx]\n",
    "        y_fold_train, y_fold_val = y_train[train_idx], y_train[val_idx]\n",
    "\n",
    "        # Train the model on this fold\n",
    "        model.fit(X_fold_train, y_fold_train, epochs=30, batch_size=64,\n",
    "                 verbose=0, callbacks=[early_stopping])\n",
    "\n",
    "        # Predict on validation fold\n",
    "        y_fold_pred = model.predict(X_fold_val)\n",
    "        y_fold_pred_classes = np.argmax(y_fold_pred, axis=1)\n",
    "        y_fold_val_classes = np.argmax(y_fold_val, axis=1)\n",
    "\n",
    "        # Calculate metrics for this fold\n",
    "        fold_acc = accuracy_score(y_fold_val_classes, y_fold_pred_classes)\n",
    "        fold_accuracies.append(fold_acc)\n",
    "\n",
    "        # Get classification report as dictionary\n",
    "        report = classification_report(y_fold_val_classes, y_fold_pred_classes,\n",
    "                                     target_names=['low', 'medium', 'high'],\n",
    "                                     output_dict=True)\n",
    "\n",
    "        # Extract metrics\n",
    "        avg_precision = report['macro avg']['precision']\n",
    "        avg_recall = report['macro avg']['recall']\n",
    "        avg_f1 = report['macro avg']['f1-score']\n",
    "\n",
    "        fold_precisions.append(avg_precision)\n",
    "        fold_recalls.append(avg_recall)\n",
    "        fold_f1s.append(avg_f1)\n",
    "\n",
    "        print(f\"Fold {fold} - Accuracy: {fold_acc:.4f}, Precision: {avg_precision:.4f}, \"\n",
    "              f\"Recall: {avg_recall:.4f}, F1: {avg_f1:.4f}\")\n",
    "\n",
    "        fold += 1\n",
    "\n",
    "    # Calculate average metrics across all folds\n",
    "    cv_accuracy = np.mean(fold_accuracies)\n",
    "    cv_precision = np.mean(fold_precisions)\n",
    "    cv_recall = np.mean(fold_recalls)\n",
    "    cv_f1 = np.mean(fold_f1s)\n",
    "\n",
    "    print(f\"\\n{model_name} Cross-Validation Results:\")\n",
    "    print(f\"Average Accuracy: {cv_accuracy:.4f}\")\n",
    "    print(f\"Average Precision: {cv_precision:.4f}\")\n",
    "    print(f\"Average Recall: {cv_recall:.4f}\")\n",
    "    print(f\"Average F1 Score: {cv_f1:.4f}\")\n",
    "\n",
    "    return cv_accuracy, cv_precision, cv_recall, cv_f1"
   ]
  },
  {
   "cell_type": "markdown",
   "metadata": {
    "id": "z4gQGip5eo17"
   },
   "source": [
    "Firstly, creating a KerasClassifier wrapper for each model and then performing CV"
   ]
  },
  {
   "cell_type": "code",
   "execution_count": null,
   "metadata": {
    "id": "vCaiADGneo18",
    "outputId": "f0783ecd-6875-4712-9834-dec0188eaf0e"
   },
   "outputs": [],
   "source": [
    "\n",
    "# Creating KerasClassifier wrappers for scikit-learn\n",
    "model1_cv = KerasClassifier(build_fn=create_model1, epochs=30, batch_size=64, verbose=0)\n",
    "model2_cv = KerasClassifier(build_fn=create_model2, epochs=30, batch_size=64, verbose=0)\n",
    "model3_cv = KerasClassifier(build_fn=create_model3, epochs=30, batch_size=64, verbose=0)\n",
    "\n",
    "# Target classes (not one-hot encoded) for cross-validation\n",
    "y_classes = np.argmax(y_train, axis=1)\n",
    "\n",
    "# Performing cross-validation for each model\n",
    "cv_acc1, cv_prec1, cv_rec1, cv_f1_1 = perform_cv(model1_cv, \"Model 1 (Simple Network)\")\n",
    "cv_acc2, cv_prec2, cv_rec2, cv_f1_2 = perform_cv(model2_cv, \"Model 2 (Deep Network with Dropout)\")\n",
    "cv_acc3, cv_prec3, cv_rec3, cv_f1_3 = perform_cv(model3_cv, \"Model 3 (Different Activations)\")\n"
   ]
  },
  {
   "cell_type": "markdown",
   "metadata": {
    "id": "LHDQV4JGeo18"
   },
   "source": [
    "Compairing cross validation results"
   ]
  },
  {
   "cell_type": "code",
   "execution_count": null,
   "metadata": {
    "id": "yNGzqQAleo18",
    "outputId": "a501b573-b4bb-441b-cbb6-246d689aeae1"
   },
   "outputs": [],
   "source": [
    "# Compare cross-validation accuracies\n",
    "models = [\"Model 1 (Simple)\", \"Model 2 (Deep with Dropout)\", \"Model 3 (Different Activations)\"]\n",
    "cv_accuracies = [cv_acc1, cv_acc2, cv_acc3]\n",
    "\n",
    "plt.figure(figsize=(10, 6))\n",
    "plt.bar(models, cv_accuracies, color=['blue', 'green', 'orange'])\n",
    "plt.title('Cross-Validation Accuracy Comparison')\n",
    "plt.ylabel('CV Accuracy')\n",
    "plt.ylim([0, 1])\n",
    "for i, acc in enumerate(cv_accuracies):\n",
    "    plt.text(i, acc + 0.01, f'{acc:.4f}', ha='center')\n",
    "plt.tight_layout()\n",
    "plt.show()"
   ]
  },
  {
   "cell_type": "markdown",
   "metadata": {
    "id": "vVODqEuFeo19"
   },
   "source": [
    "**Evaluation of Cross-Validation Results**\n",
    "\n",
    "Model 1 (Simple Network):\n",
    "\n",
    "- Average accuracy: 0.5961\n",
    "- Relatively consistent performance across folds (0.5908-0.5998)\n",
    "- Balanced precision and recall\n",
    "\n",
    "Model 2 (Deep Network with Dropout):\n",
    "- Average accuracy: 0.6106 (highest)\n",
    "- More variance between folds (0.6063-0.6151)\n",
    "- High precision in some folds (like 0.6177 in Fold 1)\n",
    "\n",
    "Model 3 (Different Activations):\n",
    "- Average accuracy: 0.6074\n",
    "- Good consistency across folds\n",
    "- Slightly better F1 scores than Model 2"
   ]
  },
  {
   "cell_type": "markdown",
   "metadata": {
    "id": "yNFxGrUOeo19"
   },
   "source": [
    "Best cross validation model based on accuracy"
   ]
  },
  {
   "cell_type": "code",
   "execution_count": null,
   "metadata": {
    "id": "ahOCUC7neo19",
    "outputId": "7bd94b46-4b76-4b19-ab70-f41ca21431a5"
   },
   "outputs": [],
   "source": [
    "\n",
    "cv_best_model_index = np.argmax(cv_accuracies)\n",
    "print(f\"\\nBest performing model (cross-validation): {models[cv_best_model_index]} with accuracy {cv_accuracies[cv_best_model_index]:.4f}\")\n"
   ]
  },
  {
   "cell_type": "markdown",
   "metadata": {
    "id": "0kWOLorIeo19"
   },
   "source": [
    "Now comparing cross-validation and test set performance for each model to select the best model out of them\n"
   ]
  },
  {
   "cell_type": "code",
   "execution_count": null,
   "metadata": {
    "id": "hoFqoOaueo1-",
    "outputId": "28dcb7ad-38ef-402e-c5b7-6e0d99c6f59e"
   },
   "outputs": [],
   "source": [
    "cv_vs_test = pd.DataFrame({\n",
    "    'Model': models,\n",
    "    'Cross-Validation Accuracy': cv_accuracies,\n",
    "    'Test Set Accuracy': accuracies\n",
    "})\n",
    "print(cv_vs_test)\n",
    "\n",
    "plt.figure(figsize=(12, 6))\n",
    "x = np.arange(len(models))\n",
    "width = 0.35\n",
    "plt.bar(x - width/2, cv_accuracies, width, label='Cross-Validation')\n",
    "plt.bar(x + width/2, accuracies, width, label='Test Set')\n",
    "plt.xlabel('Model')\n",
    "plt.ylabel('Accuracy')\n",
    "plt.title('Cross-Validation vs. Test Set Accuracy')\n",
    "plt.xticks(x, models, rotation=45, ha=\"right\")\n",
    "plt.ylim([0, 1])\n",
    "plt.legend()\n",
    "plt.tight_layout()\n",
    "plt.show()"
   ]
  },
  {
   "cell_type": "markdown",
   "metadata": {
    "id": "KUX-ScCSeo1-"
   },
   "source": [
    "Determining the overall best model by considering both CV and test performances. We will take the commulative scores of both.\n"
   ]
  },
  {
   "cell_type": "code",
   "execution_count": null,
   "metadata": {
    "id": "QnOKjkuDeo1-",
    "outputId": "ff05ae6d-e40b-4e6f-b7e0-bb740e736806"
   },
   "outputs": [],
   "source": [
    "\n",
    "combined_scores = [(cv + test)/2 for cv, test in zip(cv_accuracies, accuracies)]\n",
    "best_combined_idx = np.argmax(combined_scores)\n",
    "best_model_name = models[best_combined_idx]\n",
    "\n",
    "print(f\"Best overall model: {best_model_name} with combined score {combined_scores[best_combined_idx]:.4f}\")\n",
    "\n",
    "\n",
    "# Define which model to use for detailed evaluation\n",
    "if best_combined_idx == 0:\n",
    "    best_model = model1\n",
    "elif best_combined_idx == 1:\n",
    "    best_model = model2\n",
    "else:\n",
    "    best_model = model3"
   ]
  },
  {
   "cell_type": "markdown",
   "metadata": {
    "id": "E4O-aE-Oeo1-"
   },
   "source": [
    "Now performing detailed evaluation of the best model on the test set"
   ]
  },
  {
   "cell_type": "code",
   "execution_count": null,
   "metadata": {
    "id": "jP31Ks4Ieo1_",
    "outputId": "c7724b7a-0104-4ae8-db30-12b438cb1089"
   },
   "outputs": [],
   "source": [
    "# Get predictions\n",
    "y_pred = best_model.predict(X_test_processed)\n",
    "y_pred_classes = np.argmax(y_pred, axis=1)\n",
    "y_test_classes = np.argmax(y_test, axis=1)\n",
    "\n",
    "# Detailed classification report\n",
    "print(\"\\nDetailed Classification Report:\")\n",
    "class_names = ['low', 'medium', 'high']\n",
    "detailed_report = classification_report(y_test_classes, y_pred_classes, target_names=class_names)\n",
    "print(detailed_report)\n",
    "\n",
    "# Confusion Matrix with normalized values\n",
    "cm = confusion_matrix(y_test_classes, y_pred_classes)\n",
    "cm_normalized = cm.astype('float') / cm.sum(axis=1)[:, np.newaxis]\n",
    "\n",
    "plt.figure(figsize=(12, 5))\n",
    "\n",
    "# Raw counts confusion matrix\n",
    "plt.subplot(1, 2, 1)\n",
    "sns.heatmap(cm, annot=True, fmt='d', cmap='Blues',\n",
    "            xticklabels=class_names,\n",
    "            yticklabels=class_names)\n",
    "plt.title(f'Confusion Matrix - {best_model_name}')\n",
    "plt.ylabel('True Label')\n",
    "plt.xlabel('Predicted Label')\n",
    "\n",
    "# Normalized confusion matrix\n",
    "plt.subplot(1, 2, 2)\n",
    "sns.heatmap(cm_normalized, annot=True, fmt='.2f', cmap='Blues',\n",
    "            xticklabels=class_names,\n",
    "            yticklabels=class_names)\n",
    "plt.title(f'Normalized Confusion Matrix - {best_model_name}')\n",
    "plt.ylabel('True Label')\n",
    "plt.xlabel('Predicted Label')\n",
    "\n",
    "plt.tight_layout()\n",
    "plt.show()\n",
    "\n",
    "# Class-specific metrics\n",
    "class_metrics = pd.DataFrame(classification_report(y_test_classes, y_pred_classes,\n",
    "                                                 target_names=class_names,\n",
    "                                                 output_dict=True)).T\n",
    "print(\"\\nClass-specific performance metrics:\")\n",
    "print(class_metrics)\n",
    "\n",
    "# Error analysis - find examples where the model made incorrect predictions\n",
    "error_indices = np.where(y_pred_classes != y_test_classes)[0]\n",
    "error_count = len(error_indices)\n",
    "print(f\"\\nError Analysis: Found {error_count} misclassifications out of {len(y_test_classes)} test samples.\")\n",
    "\n",
    "if error_count > 0:\n",
    "    # Sample some misclassified examples\n",
    "    sample_size = min(5, error_count)\n",
    "    sample_indices = np.random.choice(error_indices, sample_size, replace=False)\n",
    "\n",
    "    print(f\"\\nSample of {sample_size} misclassified examples:\")\n",
    "    for i, idx in enumerate(sample_indices):\n",
    "        true_class = class_names[y_test_classes[idx]]\n",
    "        pred_class = class_names[y_pred_classes[idx]]\n",
    "        print(f\"Example {i+1}: True class = {true_class}, Predicted class = {pred_class}\")\n",
    "\n",
    "# Conclusion comparing cross-validation and test performance\n",
    "print(f\"\\n\\nThe {best_model_name} showed the best overall performance\")\n",
    "print(f\"Cross-validation accuracy: {cv_accuracies[best_combined_idx]:.4f}\")\n",
    "print(f\"Test set accuracy: {accuracies[best_combined_idx]:.4f}\")\n",
    "\n",
    "# Check if there's overfitting by comparing CV and test performance\n",
    "cv_test_diff = abs(cv_accuracies[best_combined_idx] - accuracies[best_combined_idx])\n",
    "if cv_test_diff > 0.05:\n",
    "    print(f\"The difference between CV and test accuracy is {cv_test_diff:.4f}, suggesting some overfitting.\")\n",
    "else:\n",
    "    print(f\"The difference between CV and test accuracy is {cv_test_diff:.4f}, suggesting good generalization.\")"
   ]
  },
  {
   "cell_type": "markdown",
   "metadata": {
    "id": "pMwKDBvWeo1_"
   },
   "source": [
    "The selection of Model 2 is justified because:\n",
    "\n",
    "- It has highest cross-validation accuracy (0.6106)\n",
    "- Also excellent generalization with only 0.0014 difference between CV and test accuracy\n",
    "- Architectural advantages of dropout regularization preventing overfitting"
   ]
  },
  {
   "cell_type": "markdown",
   "metadata": {
    "id": "HUMv_Adieo1_"
   },
   "source": [
    "**Did the Model Perform as Expected?**\n",
    "\n",
    "- The model gave good overall accuracy of around 61% for a three class problem and has minimal difference between CV and test accuracy which shows good generalization.\n",
    "\n",
    "- Although the model has major issue in predicting `medium` class. It can be due to the class imbalance i.e. 4578 high vs 757 medium samples or the `medium` class is severely underrepresented and has less distinctive features."
   ]
  },
  {
   "cell_type": "markdown",
   "metadata": {
    "id": "p-vXwOTPeo1_"
   },
   "source": [
    "Despite model 2's limitations with the \"medium\" class, it still remains the best choice out of the three tested models because of its dropout regularization which provides better generalization compared to the alternatives."
   ]
  },
  {
   "cell_type": "markdown",
   "metadata": {
    "id": "bY9zgHGihP_H"
   },
   "source": [
    "## **Conclusions**\n",
    "\n",
    "In this project, we successfully developed and compared three feed-forward, back-propagating neural networks to predict the `share_level` of online news articles.\n",
    "\n",
    "Through our exploratory data analysis and feature selection processes, we identified key predictors that contributed meaningfully to model performance. By varying hyperparameters such as the number of hidden layers, activation functions, and optimizers, we were able to explore the strengths and weaknesses of different network architectures.\n",
    "\n",
    "Ultimately, our preferred model demonstrated strong classification performance on the testing dataset, suggesting that neural networks can effectively capture complex patterns in online article popularity.\n"
   ]
  }
 ],
 "metadata": {
  "colab": {
   "provenance": [],
   "toc_visible": true
  },
  "kernelspec": {
   "display_name": "Python [conda env:base] *",
   "language": "python",
   "name": "conda-base-py"
  },
  "language_info": {
   "codemirror_mode": {
    "name": "ipython",
    "version": 3
   },
   "file_extension": ".py",
   "mimetype": "text/x-python",
   "name": "python",
   "nbconvert_exporter": "python",
   "pygments_lexer": "ipython3",
   "version": "3.12.7"
  }
 },
 "nbformat": 4,
 "nbformat_minor": 4
}
